{
  "nbformat": 4,
  "nbformat_minor": 0,
  "metadata": {
    "colab": {
      "name": "Untitled6.ipynb",
      "provenance": [],
      "authorship_tag": "ABX9TyPZYsh6IE9xrRq76JmBetpJ",
      "include_colab_link": true
    },
    "kernelspec": {
      "display_name": "Python 3",
      "name": "python3"
    }
  },
  "cells": [
    {
      "cell_type": "markdown",
      "metadata": {
        "id": "view-in-github",
        "colab_type": "text"
      },
      "source": [
        "<a href=\"https://colab.research.google.com/github/lblum95/AML/blob/master/task2/Jannik_first.ipynb\" target=\"_parent\"><img src=\"https://colab.research.google.com/assets/colab-badge.svg\" alt=\"Open In Colab\"/></a>"
      ]
    },
    {
      "cell_type": "code",
      "metadata": {
        "id": "UZaF6SnqwL3W",
        "outputId": "13cb4f42-2798-4cfc-8ebc-d0ec5731e34a",
        "colab": {
          "base_uri": "https://localhost:8080/",
          "height": 35
        }
      },
      "source": [
        "from google.colab import drive\n",
        "drive.mount('/content/drive')\n",
        "import os\n",
        "os.chdir('/content/drive/My Drive')"
      ],
      "execution_count": 1,
      "outputs": [
        {
          "output_type": "stream",
          "text": [
            "Mounted at /content/drive\n"
          ],
          "name": "stdout"
        }
      ]
    },
    {
      "cell_type": "code",
      "metadata": {
        "id": "85wnC4eFzcWh"
      },
      "source": [
        "%matplotlib inline "
      ],
      "execution_count": 2,
      "outputs": []
    },
    {
      "cell_type": "code",
      "metadata": {
        "id": "_-AbzevswOvI"
      },
      "source": [
        "import pandas as pd\n",
        "import numpy as np\n",
        "\n",
        "from matplotlib import pyplot as plt\n",
        "import umap\n",
        "import seaborn as sns\n",
        "from sklearn.preprocessing import StandardScaler"
      ],
      "execution_count": 3,
      "outputs": []
    },
    {
      "cell_type": "code",
      "metadata": {
        "id": "cgcOzHYvwSu_"
      },
      "source": [
        "x_train = pd.read_csv(\"data/X_train.csv\",index_col=0,header = 0)\n",
        "y_train = pd.read_csv(\"data/y_train.csv\",index_col=0,header = 0)\n",
        "x_test = pd.read_csv(\"data/X_test.csv\",index_col=0,header = 0)"
      ],
      "execution_count": 4,
      "outputs": []
    },
    {
      "cell_type": "code",
      "metadata": {
        "id": "v_YVWFoH8Dil"
      },
      "source": [
        "y_first=y_train['y'].replace(2,0)\n",
        "scaler = StandardScaler()\n",
        "x_train = scaler.fit_transform(x_train)\n",
        "x_test = scaler.transform(x_test)"
      ],
      "execution_count": 5,
      "outputs": []
    },
    {
      "cell_type": "code",
      "metadata": {
        "id": "UEBTXUFA4Mmp",
        "outputId": "341fc220-1cb1-4cd2-c465-b7970a9fddbd",
        "colab": {
          "base_uri": "https://localhost:8080/",
          "height": 265
        }
      },
      "source": [
        "from scipy import stats\n",
        "p=[]\n",
        "for i in range(x_train.shape[1]):\n",
        "  p.append(abs(stats.pearsonr(x_train[:,i], y_first)[0]))\n",
        "p.sort()\n",
        "plt.plot(p)\n",
        "plt.show()"
      ],
      "execution_count": 6,
      "outputs": [
        {
          "output_type": "display_data",
          "data": {
            "image/png": "[encoded data removed]",
            "text/plain": [
              "<Figure size 432x288 with 1 Axes>"
            ]
          },
          "metadata": {
            "tags": [],
            "needs_background": "light"
          }
        }
      ]
    },
    {
      "cell_type": "code",
      "metadata": {
        "id": "pSI2Gaa167_u",
        "outputId": "ae3c2744-9ab7-4d01-d5b2-b374bae9739e",
        "colab": {
          "base_uri": "https://localhost:8080/",
          "height": 265
        }
      },
      "source": [
        "p=[]\n",
        "for i in range(x_train.shape[1]):\n",
        "  p.append(abs(stats.spearmanr(x_train[:,i], y_first)[0]))\n",
        "p.sort()\n",
        "plt.plot(p)\n",
        "plt.show()"
      ],
      "execution_count": 8,
      "outputs": [
        {
          "output_type": "display_data",
          "data": {
            "image/png": "[encoded data removed]",
            "text/plain": [
              "<Figure size 432x288 with 1 Axes>"
            ]
          },
          "metadata": {
            "tags": [],
            "needs_background": "light"
          }
        }
      ]
    },
    {
      "cell_type": "code",
      "metadata": {
        "id": "JiaFqCdQ7YtE",
        "outputId": "6fcbff52-3613-4c31-db34-5af2059255cc",
        "colab": {
          "base_uri": "https://localhost:8080/",
          "height": 35
        }
      },
      "source": [
        "q=[value for value in p if value>0.45]\n",
        "len(q)"
      ],
      "execution_count": 9,
      "outputs": [
        {
          "output_type": "execute_result",
          "data": {
            "text/plain": [
              "106"
            ]
          },
          "metadata": {
            "tags": []
          },
          "execution_count": 9
        }
      ]
    },
    {
      "cell_type": "code",
      "metadata": {
        "id": "nq4hIZ_f8fPj"
      },
      "source": [
        "from sklearn.feature_selection import SelectKBest, f_classif\n",
        "from sklearn.model_selection import train_test_split\n",
        "from sklearn.svm import SVC\n",
        "from sklearn.metrics import balanced_accuracy_score\n",
        "from sklearn.model_selection import GridSearchCV\n",
        "from sklearn.metrics import plot_confusion_matrix\n",
        "from sklearn.tree import DecisionTreeClassifier\n",
        "from sklearn.neighbors import KNeighborsClassifier"
      ],
      "execution_count": 10,
      "outputs": []
    },
    {
      "cell_type": "code",
      "metadata": {
        "id": "qY00GWiu-ffJ"
      },
      "source": [
        "kbest = SelectKBest(f_classif,k=106).fit(x_train,y_first)\n",
        "X_train = kbest.transform(x_train)\n",
        "X_test = kbest.transform(x_test)"
      ],
      "execution_count": 11,
      "outputs": []
    },
    {
      "cell_type": "code",
      "metadata": {
        "id": "-UE5E4gdbdWo"
      },
      "source": [
        "X_train, X_val, y_train, y_val = train_test_split(\n",
        "    X_train, y_first, test_size=0.2, random_state=36)"
      ],
      "execution_count": 12,
      "outputs": []
    },
    {
      "cell_type": "code",
      "metadata": {
        "id": "7YlZtJwja_6F"
      },
      "source": [
        "parameters = {'kernel':('linear', 'rbf'), 'C':[0.1, 1, 10, 100]}\n",
        "svc = SVC(class_weight='balanced',decision_function_shape='ovo', random_state=36)\n",
        "clf = GridSearchCV(estimator=svc, param_grid=parameters, scoring='balanced_accuracy',return_train_score=True)\n",
        "clf.fit(X_train, y_train)\n",
        "print(clf.best_params_)\n",
        "plot_confusion_matrix(clf, X_val, y_val)\n",
        "plt.show() "
      ],
      "execution_count": null,
      "outputs": []
    },
    {
      "cell_type": "code",
      "metadata": {
        "id": "XTGYq5Vuf-Th",
        "outputId": "3246a96c-4397-43cf-84c9-27638b7904ed",
        "colab": {
          "base_uri": "https://localhost:8080/",
          "height": 279
        }
      },
      "source": [
        ""
      ],
      "execution_count": 19,
      "outputs": [
        {
          "output_type": "display_data",
          "data": {
            "image/png": "[encoded data removed]",
            "text/plain": [
              "<Figure size 432x288 with 2 Axes>"
            ]
          },
          "metadata": {
            "tags": [],
            "needs_background": "light"
          }
        }
      ]
    },
    {
      "cell_type": "code",
      "metadata": {
        "id": "Qrg0DtfrgdVc",
        "outputId": "935b1b09-06fd-4028-e582-a232e0ef17ac",
        "colab": {
          "base_uri": "https://localhost:8080/",
          "height": 35
        }
      },
      "source": [
        ""
      ],
      "execution_count": 20,
      "outputs": [
        {
          "output_type": "execute_result",
          "data": {
            "text/plain": [
              "{'C': 1, 'kernel': 'rbf'}"
            ]
          },
          "metadata": {
            "tags": []
          },
          "execution_count": 20
        }
      ]
    },
    {
      "cell_type": "code",
      "metadata": {
        "id": "G6aJyut9h91z",
        "outputId": "492a6a0d-061f-46a3-da5f-9210036dbe7e",
        "colab": {
          "base_uri": "https://localhost:8080/",
          "height": 279
        }
      },
      "source": [
        "\n",
        "tree = DecisionTreeClassifier(class_weight='balanced', random_state=36)\n",
        "tree.fit(X_train, y_train)\n",
        "plot_confusion_matrix(tree, X_val, y_val)\n",
        "plt.show() "
      ],
      "execution_count": 21,
      "outputs": [
        {
          "output_type": "display_data",
          "data": {
            "image/png": "[encoded data removed]",
            "text/plain": [
              "<Figure size 432x288 with 2 Axes>"
            ]
          },
          "metadata": {
            "tags": [],
            "needs_background": "light"
          }
        }
      ]
    },
    {
      "cell_type": "code",
      "metadata": {
        "id": "JbpGtw1ujeA1",
        "outputId": "a03a8a30-429f-4b8f-ffdf-9d5b084da8fb",
        "colab": {
          "base_uri": "https://localhost:8080/",
          "height": 35
        }
      },
      "source": [
        "tree.score(X_val,y_val)"
      ],
      "execution_count": 22,
      "outputs": [
        {
          "output_type": "execute_result",
          "data": {
            "text/plain": [
              "0.759375"
            ]
          },
          "metadata": {
            "tags": []
          },
          "execution_count": 22
        }
      ]
    },
    {
      "cell_type": "code",
      "metadata": {
        "id": "Jqgkfudaj8-s"
      },
      "source": [
        "from sklearn.neighbors import KNeighborsClassifier"
      ],
      "execution_count": 23,
      "outputs": []
    },
    {
      "cell_type": "code",
      "metadata": {
        "id": "1_W61B2sh8qW",
        "outputId": "99a85194-1a10-4fe0-c7b2-47b0d70b65dc",
        "colab": {
          "base_uri": "https://localhost:8080/",
          "height": 35
        }
      },
      "source": [
        "parameters = {'n_neighbors':[1, 3, 5]}\n",
        "neigh = KNeighborsClassifier(n_neighbors=3)\n",
        "clf = GridSearchCV(estimator=neigh, param_grid=parameters, scoring='balanced_accuracy',return_train_score=True)\n",
        "clf.fit(X_train, y_train)\n",
        "print(clf.best_params_)"
      ],
      "execution_count": 33,
      "outputs": [
        {
          "output_type": "stream",
          "text": [
            "{'n_neighbors': 5}\n"
          ],
          "name": "stdout"
        }
      ]
    },
    {
      "cell_type": "code",
      "metadata": {
        "id": "_LK_vRu7iBJm",
        "outputId": "8e0f3d59-3c89-49ba-b8ed-e2bd7b289399",
        "colab": {
          "base_uri": "https://localhost:8080/",
          "height": 279
        }
      },
      "source": [
        "plot_confusion_matrix(clf, X_val, y_val)  # doctest: +SKIP\n",
        "plt.show() "
      ],
      "execution_count": 34,
      "outputs": [
        {
          "output_type": "display_data",
          "data": {
            "image/png": "[encoded data removed]",
            "text/plain": [
              "<Figure size 432x288 with 2 Axes>"
            ]
          },
          "metadata": {
            "tags": [],
            "needs_background": "light"
          }
        }
      ]
    }
  ]
}