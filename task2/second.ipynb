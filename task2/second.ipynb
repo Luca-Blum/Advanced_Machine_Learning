{
  "nbformat": 4,
  "nbformat_minor": 0,
  "metadata": {
    "colab": {
      "name": "Kopie von Untitled6.ipynb",
      "provenance": [],
      "toc_visible": true,
      "authorship_tag": "ABX9TyOk46pVjmdJOB5FS7YYzdh+",
      "include_colab_link": true
    },
    "kernelspec": {
      "display_name": "Python 3",
      "name": "python3"
    }
  },
  "cells": [
    {
      "cell_type": "markdown",
      "metadata": {
        "id": "view-in-github",
        "colab_type": "text"
      },
      "source": [
        "<a href=\"https://colab.research.google.com/github/lblum95/AML/blob/master/task2/second.ipynb\" target=\"_parent\"><img src=\"https://colab.research.google.com/assets/colab-badge.svg\" alt=\"Open In Colab\"/></a>"
      ]
    },
    {
      "cell_type": "markdown",
      "metadata": {
        "id": "a5uB8gSVp5CB"
      },
      "source": [
        "# Task 2"
      ]
    },
    {
      "cell_type": "markdown",
      "metadata": {
        "id": "fNXjoJEEp7j6"
      },
      "source": [
        "## Connection to drive"
      ]
    },
    {
      "cell_type": "code",
      "metadata": {
        "id": "UZaF6SnqwL3W",
        "outputId": "96ab699f-f288-4358-b4a7-2b1806e2cc17",
        "colab": {
          "base_uri": "https://localhost:8080/"
        }
      },
      "source": [
        "from google.colab import drive\n",
        "drive.mount('/content/drive')\n",
        "import os\n",
        "os.chdir('/content/drive/My Drive')"
      ],
      "execution_count": 28,
      "outputs": [
        {
          "output_type": "stream",
          "text": [
            "Drive already mounted at /content/drive; to attempt to forcibly remount, call drive.mount(\"/content/drive\", force_remount=True).\n"
          ],
          "name": "stdout"
        }
      ]
    },
    {
      "cell_type": "markdown",
      "metadata": {
        "id": "YEn8dAtMqNOG"
      },
      "source": [
        "## Import libraries"
      ]
    },
    {
      "cell_type": "code",
      "metadata": {
        "id": "85wnC4eFzcWh"
      },
      "source": [
        "%matplotlib inline "
      ],
      "execution_count": 29,
      "outputs": []
    },
    {
      "cell_type": "code",
      "metadata": {
        "id": "_-AbzevswOvI"
      },
      "source": [
        "#General\n",
        "import pandas as pd\n",
        "import numpy as np\n",
        "from scipy import stats\n",
        "from matplotlib import pyplot as plt\n",
        "#Preprocessing\n",
        "from sklearn.preprocessing import StandardScaler\n",
        "from sklearn.model_selection import train_test_split\n",
        "from sklearn.model_selection import StratifiedKFold\n",
        "from sklearn.metrics import balanced_accuracy_score\n",
        "from sklearn.metrics import plot_confusion_matrix\n",
        "# Classifiers\n",
        "from sklearn.svm import SVC\n",
        "from sklearn.naive_bayes import GaussianNB\n",
        "from sklearn.tree import DecisionTreeClassifier\n",
        "from sklearn.ensemble import StackingClassifier"
      ],
      "execution_count": 30,
      "outputs": []
    },
    {
      "cell_type": "markdown",
      "metadata": {
        "id": "9EYfs8NGqRTS"
      },
      "source": [
        "## Import data"
      ]
    },
    {
      "cell_type": "code",
      "metadata": {
        "id": "cgcOzHYvwSu_"
      },
      "source": [
        "x_train = pd.read_csv(\"data/X_train.csv\",index_col=0,header = 0)\n",
        "y_train = pd.read_csv(\"data/y_train.csv\",index_col=0,header = 0)\n",
        "x_test = pd.read_csv(\"data/X_test.csv\",index_col=0,header = 0)"
      ],
      "execution_count": 31,
      "outputs": []
    },
    {
      "cell_type": "markdown",
      "metadata": {
        "id": "DyOY1GGmqTfb"
      },
      "source": [
        "## Preprocess data"
      ]
    },
    {
      "cell_type": "code",
      "metadata": {
        "id": "v_YVWFoH8Dil"
      },
      "source": [
        "scaler = StandardScaler()\n",
        "x_train = scaler.fit_transform(x_train)\n",
        "x_test = scaler.transform(x_test)"
      ],
      "execution_count": 32,
      "outputs": []
    },
    {
      "cell_type": "markdown",
      "metadata": {
        "id": "-DJw2nTvyULd"
      },
      "source": [
        "## Initialise classifiers"
      ]
    },
    {
      "cell_type": "code",
      "metadata": {
        "id": "FEoFv2x-iJi_"
      },
      "source": [
        "sig=SVC(kernel='sigmoid', C=1.5, coef0=-0.5, class_weight='balanced',decision_function_shape='ovo', random_state=36)\n",
        "rbf=SVC(kernel='rbf', C=1, class_weight='balanced',decision_function_shape='ovo', random_state=42)\n",
        "poly=SVC(kernel='poly', C=1, coef0=0.2, degree=2, class_weight='balanced',decision_function_shape='ovo', random_state=96)\n",
        "gauss = GaussianNB(priors=[6/13,1/13, 6/13])\n",
        "tree = DecisionTreeClassifier(class_weight='balanced', random_state=36)"
      ],
      "execution_count": 33,
      "outputs": []
    },
    {
      "cell_type": "markdown",
      "metadata": {
        "id": "LjU8K1XiybXN"
      },
      "source": [
        "## Stack the classifiers"
      ]
    },
    {
      "cell_type": "code",
      "metadata": {
        "id": "GUFfGmdgjZAe",
        "outputId": "4ce9d8c5-60fe-4d72-ae2a-0ebbf5402874",
        "colab": {
          "base_uri": "https://localhost:8080/",
          "height": 1000
        }
      },
      "source": [
        "skf = StratifiedKFold(n_splits=5)\n",
        "for train, val in skf.split(x_train, y_train):\n",
        "  sig=SVC(kernel='sigmoid', C=1.5, coef0=-0.5, class_weight='balanced',decision_function_shape='ovo', random_state=36)\n",
        "  rbf=SVC(kernel='rbf', C=1, class_weight='balanced',decision_function_shape='ovo', random_state=42)\n",
        "  poly=SVC(kernel='poly', C=1, coef0=0.2, degree=2, class_weight='balanced',decision_function_shape='ovo', random_state=96)\n",
        "  gauss = GaussianNB(priors=[6/13,1/13, 6/13])\n",
        "  tree = DecisionTreeClassifier(class_weight='balanced', random_state=36)\n",
        "  estimators = [\n",
        "      ('sig', sig),\n",
        "      ('rbf', rbf),\n",
        "      ('poly', poly)\n",
        "      #('gauss', gauss),\n",
        "      #('tree', tree)\n",
        "  ]\n",
        "  clf = StackingClassifier(\n",
        "      estimators=estimators, final_estimator=SVC(class_weight='balanced', decision_function_shape='ovo', random_state=0), n_jobs=-1\n",
        "  )\n",
        "  clf.fit(x_train[train], np.ravel(y_train)[train])\n",
        "  print(balanced_accuracy_score(np.ravel(y_train)[val],clf.predict(x_train[val])))\n",
        "  plot_confusion_matrix(clf, x_train[val], np.ravel(y_train)[val])\n",
        "  plt.show()"
      ],
      "execution_count": 42,
      "outputs": [
        {
          "output_type": "stream",
          "text": [
            "0.7171296296296297\n"
          ],
          "name": "stdout"
        },
        {
          "output_type": "display_data",
          "data": {
            "image/png": "[encoded data removed]",
            "text/plain": [
              "<Figure size 432x288 with 2 Axes>"
            ]
          },
          "metadata": {
            "tags": [],
            "needs_background": "light"
          }
        },
        {
          "output_type": "stream",
          "text": [
            "0.7212962962962962\n"
          ],
          "name": "stdout"
        },
        {
          "output_type": "display_data",
          "data": {
            "image/png": "[encoded data removed]",
            "text/plain": [
              "<Figure size 432x288 with 2 Axes>"
            ]
          },
          "metadata": {
            "tags": [],
            "needs_background": "light"
          }
        },
        {
          "output_type": "stream",
          "text": [
            "0.724074074074074\n"
          ],
          "name": "stdout"
        },
        {
          "output_type": "display_data",
          "data": {
            "image/png": "[encoded data removed]",
            "text/plain": [
              "<Figure size 432x288 with 2 Axes>"
            ]
          },
          "metadata": {
            "tags": [],
            "needs_background": "light"
          }
        },
        {
          "output_type": "stream",
          "text": [
            "0.6819444444444445\n"
          ],
          "name": "stdout"
        },
        {
          "output_type": "display_data",
          "data": {
            "image/png": "[encoded data removed]",
            "text/plain": [
              "<Figure size 432x288 with 2 Axes>"
            ]
          },
          "metadata": {
            "tags": [],
            "needs_background": "light"
          }
        },
        {
          "output_type": "stream",
          "text": [
            "0.6833333333333332\n"
          ],
          "name": "stdout"
        },
        {
          "output_type": "display_data",
          "data": {
            "image/png": "[encoded data removed]",
            "text/plain": [
              "<Figure size 432x288 with 2 Axes>"
            ]
          },
          "metadata": {
            "tags": [],
            "needs_background": "light"
          }
        }
      ]
    },
    {
      "cell_type": "code",
      "metadata": {
        "id": "HLKiEW0Fsi64",
        "outputId": "86e95a00-499c-4e8a-a38b-566f5e22b003",
        "colab": {
          "base_uri": "https://localhost:8080/"
        }
      },
      "source": [
        "sig=SVC(kernel='sigmoid', C=1.5, coef0=-0.5, class_weight='balanced',decision_function_shape='ovo', random_state=36)\n",
        "rbf=SVC(kernel='rbf', C=1, class_weight='balanced',decision_function_shape='ovo', random_state=42)\n",
        "poly=SVC(kernel='poly', C=1, coef0=0.2, degree=2, class_weight='balanced',decision_function_shape='ovo', random_state=96)\n",
        "gauss = GaussianNB(priors=[6/13,1/13, 6/13])\n",
        "tree = DecisionTreeClassifier(class_weight='balanced', random_state=36)\n",
        "estimators = [\n",
        "    ('sig', sig),\n",
        "    ('rbf', rbf),\n",
        "    ('poly', poly)\n",
        "    #('gauss', gauss),\n",
        "    #('tree', tree)\n",
        "]\n",
        "clf = StackingClassifier(\n",
        "    estimators=estimators, final_estimator=SVC(class_weight='balanced', decision_function_shape='ovo', random_state=0), n_jobs=-1\n",
        ")\n",
        "clf.fit(x_train, np.ravel(y_train))"
      ],
      "execution_count": 43,
      "outputs": [
        {
          "output_type": "execute_result",
          "data": {
            "text/plain": [
              "StackingClassifier(cv=None,\n",
              "                   estimators=[('sig',\n",
              "                                SVC(C=1.5, break_ties=False, cache_size=200,\n",
              "                                    class_weight='balanced', coef0=-0.5,\n",
              "                                    decision_function_shape='ovo', degree=3,\n",
              "                                    gamma='scale', kernel='sigmoid',\n",
              "                                    max_iter=-1, probability=False,\n",
              "                                    random_state=36, shrinking=True, tol=0.001,\n",
              "                                    verbose=False)),\n",
              "                               ('rbf',\n",
              "                                SVC(C=1, break_ties=False, cache_size=200,\n",
              "                                    class_weight='balanced'...\n",
              "                                    probability=False, random_state=96,\n",
              "                                    shrinking=True, tol=0.001,\n",
              "                                    verbose=False))],\n",
              "                   final_estimator=SVC(C=1.0, break_ties=False, cache_size=200,\n",
              "                                       class_weight='balanced', coef0=0.0,\n",
              "                                       decision_function_shape='ovo', degree=3,\n",
              "                                       gamma='scale', kernel='rbf', max_iter=-1,\n",
              "                                       probability=False, random_state=0,\n",
              "                                       shrinking=True, tol=0.001,\n",
              "                                       verbose=False),\n",
              "                   n_jobs=-1, passthrough=False, stack_method='auto',\n",
              "                   verbose=0)"
            ]
          },
          "metadata": {
            "tags": []
          },
          "execution_count": 43
        }
      ]
    },
    {
      "cell_type": "markdown",
      "metadata": {
        "id": "vtE0S1mkyhfT"
      },
      "source": [
        "## Write to file"
      ]
    },
    {
      "cell_type": "code",
      "metadata": {
        "id": "z_Si9O0Mu3S-"
      },
      "source": [
        "y_pred=clf.predict(x_test)\n",
        "df = pd.DataFrame(y_pred)\n",
        "df.to_csv('aues.csv',header = ['y'], index_label = 'id')"
      ],
      "execution_count": 44,
      "outputs": []
    },
    {
      "cell_type": "code",
      "metadata": {
        "id": "SvOZhK1Kv_om"
      },
      "source": [
        "X_train, X_val, Y_train, Y_val = train_test_split(\n",
        "    x_train, y_train, test_size=0.2, random_state=36)"
      ],
      "execution_count": 45,
      "outputs": []
    },
    {
      "cell_type": "code",
      "metadata": {
        "id": "v3kb68RDv3Jq",
        "outputId": "39aae46a-1863-4a55-bd7d-9bd86550162f",
        "colab": {
          "base_uri": "https://localhost:8080/",
          "height": 297
        }
      },
      "source": [
        "sig=SVC(kernel='sigmoid', C=1.5, coef0=-0.5, class_weight='balanced',decision_function_shape='ovo', random_state=36)\n",
        "rbf=SVC(kernel='rbf', C=1, class_weight='balanced',decision_function_shape='ovo', random_state=42)\n",
        "poly=SVC(kernel='poly', C=1, coef0=0.2, degree=2, class_weight='balanced',decision_function_shape='ovo', random_state=96)\n",
        "gauss = GaussianNB(priors=[6/13,1/13, 6/13])\n",
        "tree = DecisionTreeClassifier(class_weight='balanced', random_state=36)\n",
        "estimators = [\n",
        "    ('sig', sig),\n",
        "    ('rbf', rbf),\n",
        "    ('poly', poly)\n",
        "    #('gauss', gauss),\n",
        "    #('tree', tree)\n",
        "]\n",
        "clf = StackingClassifier(\n",
        "    estimators=estimators, final_estimator=SVC(class_weight='balanced', decision_function_shape='ovo', random_state=0), n_jobs=-1\n",
        ")\n",
        "clf.fit(X_train, np.ravel(Y_train))\n",
        "print(balanced_accuracy_score(Y_val,clf.predict(X_val)))\n",
        "plot_confusion_matrix(clf, X_val, np.ravel(Y_val))\n",
        "plt.show()"
      ],
      "execution_count": 46,
      "outputs": [
        {
          "output_type": "stream",
          "text": [
            "0.6860728083035458\n"
          ],
          "name": "stdout"
        },
        {
          "output_type": "display_data",
          "data": {
            "image/png": "[encoded data removed]",
            "text/plain": [
              "<Figure size 432x288 with 2 Axes>"
            ]
          },
          "metadata": {
            "tags": [],
            "needs_background": "light"
          }
        }
      ]
    }
  ]
}