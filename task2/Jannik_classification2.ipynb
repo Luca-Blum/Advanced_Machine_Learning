{
  "nbformat": 4,
  "nbformat_minor": 0,
  "metadata": {
    "colab": {
      "name": "Untitled6.ipynb",
      "provenance": [],
      "toc_visible": true,
      "authorship_tag": "ABX9TyPuVMUA7RMxr499z08ApYsW",
      "include_colab_link": true
    },
    "kernelspec": {
      "display_name": "Python 3",
      "name": "python3"
    }
  },
  "cells": [
    {
      "cell_type": "markdown",
      "metadata": {
        "id": "view-in-github",
        "colab_type": "text"
      },
      "source": [
        "<a href=\"https://colab.research.google.com/github/lblum95/AML/blob/master/task2/Jannik_classification2.ipynb\" target=\"_parent\"><img src=\"https://colab.research.google.com/assets/colab-badge.svg\" alt=\"Open In Colab\"/></a>"
      ]
    },
    {
      "cell_type": "markdown",
      "metadata": {
        "id": "a5uB8gSVp5CB"
      },
      "source": [
        "# Task 2"
      ]
    },
    {
      "cell_type": "markdown",
      "metadata": {
        "id": "fNXjoJEEp7j6"
      },
      "source": [
        "## Import data"
      ]
    },
    {
      "cell_type": "code",
      "metadata": {
        "id": "UZaF6SnqwL3W",
        "outputId": "ae288bc2-62fe-4e1a-e3e0-6c59b0844193",
        "colab": {
          "base_uri": "https://localhost:8080/",
          "height": 35
        }
      },
      "source": [
        "from google.colab import drive\n",
        "drive.mount('/content/drive')\n",
        "import os\n",
        "os.chdir('/content/drive/My Drive')"
      ],
      "execution_count": 1,
      "outputs": [
        {
          "output_type": "stream",
          "text": [
            "Mounted at /content/drive\n"
          ],
          "name": "stdout"
        }
      ]
    },
    {
      "cell_type": "markdown",
      "metadata": {
        "id": "_MLGgCMeqIQ9"
      },
      "source": [
        "## Pre-process data"
      ]
    },
    {
      "cell_type": "markdown",
      "metadata": {
        "id": "YEn8dAtMqNOG"
      },
      "source": [
        "### Import libraries"
      ]
    },
    {
      "cell_type": "code",
      "metadata": {
        "id": "85wnC4eFzcWh"
      },
      "source": [
        "%matplotlib inline "
      ],
      "execution_count": 2,
      "outputs": []
    },
    {
      "cell_type": "code",
      "metadata": {
        "id": "_-AbzevswOvI"
      },
      "source": [
        "import pandas as pd\n",
        "import numpy as np\n",
        "from scipy import stats\n",
        "from matplotlib import pyplot as plt\n",
        "import umap\n",
        "import seaborn as sns\n",
        "from sklearn.preprocessing import StandardScaler"
      ],
      "execution_count": 3,
      "outputs": []
    },
    {
      "cell_type": "markdown",
      "metadata": {
        "id": "9EYfs8NGqRTS"
      },
      "source": [
        "### Import data"
      ]
    },
    {
      "cell_type": "code",
      "metadata": {
        "id": "cgcOzHYvwSu_"
      },
      "source": [
        "x_train = pd.read_csv(\"data/X_train.csv\",index_col=0,header = 0)\n",
        "y_train = pd.read_csv(\"data/y_train.csv\",index_col=0,header = 0)\n",
        "x_test = pd.read_csv(\"data/X_test.csv\",index_col=0,header = 0)"
      ],
      "execution_count": 4,
      "outputs": []
    },
    {
      "cell_type": "markdown",
      "metadata": {
        "id": "DyOY1GGmqTfb"
      },
      "source": [
        "### Preprocess data"
      ]
    },
    {
      "cell_type": "code",
      "metadata": {
        "id": "v_YVWFoH8Dil"
      },
      "source": [
        "y_first=y_train['y'].replace(2,0)\n",
        "scaler = StandardScaler()\n",
        "x_train = scaler.fit_transform(x_train)\n",
        "x_test = scaler.transform(x_test)"
      ],
      "execution_count": 5,
      "outputs": []
    },
    {
      "cell_type": "markdown",
      "metadata": {
        "id": "HhcXLCiyqXZ2"
      },
      "source": [
        "# First classification"
      ]
    },
    {
      "cell_type": "markdown",
      "metadata": {
        "id": "sbzEWfyOqZmp"
      },
      "source": [
        "## Feature selection"
      ]
    },
    {
      "cell_type": "markdown",
      "metadata": {
        "id": "AgB4g4gZqbwf"
      },
      "source": [
        "### Amount of good features"
      ]
    },
    {
      "cell_type": "code",
      "metadata": {
        "id": "UEBTXUFA4Mmp",
        "outputId": "c01f98e7-81ed-476c-b09c-f68c5cc1675c",
        "colab": {
          "base_uri": "https://localhost:8080/",
          "height": 265
        }
      },
      "source": [
        "p=[]\n",
        "for i in range(x_train.shape[1]):\n",
        "  p.append(abs(stats.pearsonr(x_train[:,i], y_first)[0]))\n",
        "p.sort()\n",
        "plt.plot(p)\n",
        "plt.show()"
      ],
      "execution_count": 6,
      "outputs": [
        {
          "output_type": "display_data",
          "data": {
            "image/png": "[encoded data removed]",
            "text/plain": [
              "<Figure size 432x288 with 1 Axes>"
            ]
          },
          "metadata": {
            "tags": [],
            "needs_background": "light"
          }
        }
      ]
    },
    {
      "cell_type": "code",
      "metadata": {
        "id": "pSI2Gaa167_u",
        "outputId": "aa62ce9a-f043-4c8d-ba1a-24034f522590",
        "colab": {
          "base_uri": "https://localhost:8080/",
          "height": 265
        }
      },
      "source": [
        "p=[]\n",
        "for i in range(x_train.shape[1]):\n",
        "  p.append(abs(stats.spearmanr(x_train[:,i], y_first)[0]))\n",
        "p.sort()\n",
        "plt.plot(p)\n",
        "plt.show()"
      ],
      "execution_count": 7,
      "outputs": [
        {
          "output_type": "display_data",
          "data": {
            "image/png": "[encoded data removed]",
            "text/plain": [
              "<Figure size 432x288 with 1 Axes>"
            ]
          },
          "metadata": {
            "tags": [],
            "needs_background": "light"
          }
        }
      ]
    },
    {
      "cell_type": "code",
      "metadata": {
        "id": "JiaFqCdQ7YtE",
        "outputId": "20539861-a481-43e1-8ac7-502667cb2f8f",
        "colab": {
          "base_uri": "https://localhost:8080/",
          "height": 35
        }
      },
      "source": [
        "q=[value for value in p if value>0.45]\n",
        "len(q)"
      ],
      "execution_count": 8,
      "outputs": [
        {
          "output_type": "execute_result",
          "data": {
            "text/plain": [
              "106"
            ]
          },
          "metadata": {
            "tags": []
          },
          "execution_count": 8
        }
      ]
    },
    {
      "cell_type": "markdown",
      "metadata": {
        "id": "eDnrnZQGqky3"
      },
      "source": [
        "### Import libraries"
      ]
    },
    {
      "cell_type": "code",
      "metadata": {
        "id": "nq4hIZ_f8fPj"
      },
      "source": [
        "from sklearn.feature_selection import SelectKBest, f_classif\n",
        "from sklearn.model_selection import train_test_split\n",
        "from sklearn.svm import SVC\n",
        "from sklearn.metrics import balanced_accuracy_score\n",
        "from sklearn.model_selection import GridSearchCV\n",
        "from sklearn.metrics import plot_confusion_matrix\n",
        "from sklearn.tree import DecisionTreeClassifier\n",
        "from sklearn.neighbors import KNeighborsClassifier"
      ],
      "execution_count": 9,
      "outputs": []
    },
    {
      "cell_type": "markdown",
      "metadata": {
        "id": "Mkr3LQOVqq9d"
      },
      "source": [
        "### Feature selection"
      ]
    },
    {
      "cell_type": "code",
      "metadata": {
        "id": "qY00GWiu-ffJ"
      },
      "source": [
        "kbest = SelectKBest(f_classif,k=106).fit(x_train,y_first)\n",
        "X_train = kbest.transform(x_train)\n",
        "X_test = kbest.transform(x_test)"
      ],
      "execution_count": 10,
      "outputs": []
    },
    {
      "cell_type": "code",
      "metadata": {
        "id": "-UE5E4gdbdWo"
      },
      "source": [
        "X_train, X_val, y_train, y_val = train_test_split(\n",
        "    X_train, y_first, test_size=0.2, random_state=36)"
      ],
      "execution_count": 11,
      "outputs": []
    },
    {
      "cell_type": "markdown",
      "metadata": {
        "id": "BIArGfNYrMKe"
      },
      "source": [
        "## SVC"
      ]
    },
    {
      "cell_type": "code",
      "metadata": {
        "id": "XTGYq5Vuf-Th",
        "outputId": "309efc9f-9c4e-4172-9ef8-b40975dcd785",
        "colab": {
          "base_uri": "https://localhost:8080/",
          "height": 297
        }
      },
      "source": [
        "parameters = {'kernel':('linear', 'rbf'), 'C':[0.1, 1, 10, 100]}\n",
        "\n",
        "svc = SVC(class_weight='balanced',decision_function_shape='ovo', random_state=36)\n",
        "clf1 = GridSearchCV(estimator=svc, param_grid=parameters, scoring='balanced_accuracy',return_train_score=True)\n",
        "clf1.fit(X_train, y_train)\n",
        "print(clf1.best_params_)\n",
        "plot_confusion_matrix(clf1, X_val, y_val)\n",
        "plt.show() "
      ],
      "execution_count": 12,
      "outputs": [
        {
          "output_type": "stream",
          "text": [
            "{'C': 1, 'kernel': 'rbf'}\n"
          ],
          "name": "stdout"
        },
        {
          "output_type": "display_data",
          "data": {
            "image/png": "[encoded data removed]",
            "text/plain": [
              "<Figure size 432x288 with 2 Axes>"
            ]
          },
          "metadata": {
            "tags": [],
            "needs_background": "light"
          }
        }
      ]
    },
    {
      "cell_type": "markdown",
      "metadata": {
        "id": "WQwZ-3FMrP-s"
      },
      "source": [
        "## Decision tree"
      ]
    },
    {
      "cell_type": "code",
      "metadata": {
        "id": "G6aJyut9h91z",
        "outputId": "2e7abba3-bfc2-42dc-b5c8-ce318a852ca7",
        "colab": {
          "base_uri": "https://localhost:8080/",
          "height": 279
        }
      },
      "source": [
        "tree = DecisionTreeClassifier(class_weight='balanced', random_state=36)\n",
        "tree.fit(X_train, y_train)\n",
        "plot_confusion_matrix(tree, X_val, y_val)\n",
        "plt.show() "
      ],
      "execution_count": 13,
      "outputs": [
        {
          "output_type": "display_data",
          "data": {
            "image/png": "[encoded data removed]",
            "text/plain": [
              "<Figure size 432x288 with 2 Axes>"
            ]
          },
          "metadata": {
            "tags": [],
            "needs_background": "light"
          }
        }
      ]
    },
    {
      "cell_type": "code",
      "metadata": {
        "id": "JbpGtw1ujeA1",
        "outputId": "d5a5bebc-55b6-47c0-dddc-77974ff48b10",
        "colab": {
          "base_uri": "https://localhost:8080/",
          "height": 35
        }
      },
      "source": [
        "tree.score(X_val,y_val)"
      ],
      "execution_count": 14,
      "outputs": [
        {
          "output_type": "execute_result",
          "data": {
            "text/plain": [
              "0.759375"
            ]
          },
          "metadata": {
            "tags": []
          },
          "execution_count": 14
        }
      ]
    },
    {
      "cell_type": "markdown",
      "metadata": {
        "id": "ID8mkNvBrYFg"
      },
      "source": [
        "## Nearest Neighbor"
      ]
    },
    {
      "cell_type": "code",
      "metadata": {
        "id": "_LK_vRu7iBJm",
        "outputId": "2e3f08a6-e119-4984-ad15-d5d59cb6d86b",
        "colab": {
          "base_uri": "https://localhost:8080/",
          "height": 297
        }
      },
      "source": [
        "parameters = {'n_neighbors':[1, 3, 5]}\n",
        "neigh = KNeighborsClassifier(n_neighbors=3)\n",
        "clf = GridSearchCV(estimator=neigh, param_grid=parameters, scoring='balanced_accuracy',return_train_score=True)\n",
        "clf.fit(X_train, y_train)\n",
        "print(clf.best_params_)\n",
        "plot_confusion_matrix(clf, X_val, y_val)\n",
        "plt.show() "
      ],
      "execution_count": 15,
      "outputs": [
        {
          "output_type": "stream",
          "text": [
            "{'n_neighbors': 5}\n"
          ],
          "name": "stdout"
        },
        {
          "output_type": "display_data",
          "data": {
            "image/png": "[encoded data removed]",
            "text/plain": [
              "<Figure size 432x288 with 2 Axes>"
            ]
          },
          "metadata": {
            "tags": [],
            "needs_background": "light"
          }
        }
      ]
    },
    {
      "cell_type": "markdown",
      "metadata": {
        "id": "XILcmpZxZhNS"
      },
      "source": [
        "## Naive Bayes"
      ]
    },
    {
      "cell_type": "code",
      "metadata": {
        "id": "KHdVp7vGSv70",
        "outputId": "ce46c58f-9f9b-4d95-e0b0-c449ef577d63",
        "colab": {
          "base_uri": "https://localhost:8080/",
          "height": 279
        }
      },
      "source": [
        "from sklearn.naive_bayes import GaussianNB\n",
        "\n",
        "gauss = GaussianNB(priors=[1/4,3/4])\n",
        "gauss.fit(X_train, y_train)\n",
        "plot_confusion_matrix(gauss, X_val, y_val)\n",
        "plt.show() "
      ],
      "execution_count": 16,
      "outputs": [
        {
          "output_type": "display_data",
          "data": {
            "image/png": "[encoded data removed]",
            "text/plain": [
              "<Figure size 432x288 with 2 Axes>"
            ]
          },
          "metadata": {
            "tags": [],
            "needs_background": "light"
          }
        }
      ]
    },
    {
      "cell_type": "markdown",
      "metadata": {
        "id": "2O3-5DL3ZkrW"
      },
      "source": [
        "## Gaussian Process"
      ]
    },
    {
      "cell_type": "code",
      "metadata": {
        "id": "C5Dp_beVSxOn",
        "outputId": "9f52d20d-c885-42c0-bdc1-f31762423270",
        "colab": {
          "base_uri": "https://localhost:8080/",
          "height": 297
        }
      },
      "source": [
        "from sklearn.gaussian_process.kernels import WhiteKernel, RBF, Matern, ExpSineSquared, RationalQuadratic\n",
        "from sklearn.gaussian_process import GaussianProcessClassifier\n",
        "\n",
        "parameters = {'kernel':[WhiteKernel, RBF, Matern, ExpSineSquared, RationalQuadratic]}\n",
        "proc = GaussianProcessClassifier(random_state=36)\n",
        "proc = GridSearchCV(estimator=proc, param_grid=parameters, scoring='balanced_accuracy',return_train_score=True)\n",
        "clf.fit(X_train, y_train)\n",
        "print(clf.best_params_)\n",
        "plot_confusion_matrix(clf, X_val, y_val)\n",
        "plt.show() "
      ],
      "execution_count": 17,
      "outputs": [
        {
          "output_type": "stream",
          "text": [
            "{'n_neighbors': 5}\n"
          ],
          "name": "stdout"
        },
        {
          "output_type": "display_data",
          "data": {
            "image/png": "[encoded data removed]",
            "text/plain": [
              "<Figure size 432x288 with 2 Axes>"
            ]
          },
          "metadata": {
            "tags": [],
            "needs_background": "light"
          }
        }
      ]
    },
    {
      "cell_type": "markdown",
      "metadata": {
        "id": "Eh502hcVro6r"
      },
      "source": [
        "# Second classification"
      ]
    },
    {
      "cell_type": "markdown",
      "metadata": {
        "id": "pwv9h1JWrukR"
      },
      "source": [
        "### Generate dataset with first classification"
      ]
    },
    {
      "cell_type": "code",
      "metadata": {
        "id": "3shPDo8btHlC"
      },
      "source": [
        "y_train = pd.read_csv(\"data/y_train.csv\",index_col=0,header = 0)\n",
        "y_train['first']=y_train['y'].replace(2,0)\n",
        "X_first, X_second, y_first, y_second = train_test_split(\n",
        "    x_train, y_train, test_size=0.5, random_state=36)\n",
        "X_first = kbest.transform(X_first)\n",
        "X_second_pred=kbest.transform(X_second)"
      ],
      "execution_count": 18,
      "outputs": []
    },
    {
      "cell_type": "markdown",
      "metadata": {
        "id": "OWrv2H6S5YtE"
      },
      "source": [
        "Put in best params for SVC"
      ]
    },
    {
      "cell_type": "code",
      "metadata": {
        "id": "w0PuX1nIu751"
      },
      "source": [
        "svc2 = SVC(C=1, kernel='rbf',class_weight='balanced',decision_function_shape='ovo', random_state=36)\n",
        "svc2.fit(X_first, y_first['first'])\n",
        "labels=svc2.predict(X_second_pred)"
      ],
      "execution_count": 19,
      "outputs": []
    },
    {
      "cell_type": "code",
      "metadata": {
        "id": "aWO066cYwmBQ"
      },
      "source": [
        "X_second=X_second[labels == 0]\n",
        "y_second=y_second[labels == 0]"
      ],
      "execution_count": 20,
      "outputs": []
    },
    {
      "cell_type": "markdown",
      "metadata": {
        "id": "PG6Su9fW-_dn"
      },
      "source": [
        "## Feature selection"
      ]
    },
    {
      "cell_type": "code",
      "metadata": {
        "id": "Q9vkzQ_Jx7kq",
        "outputId": "72e408e1-02a1-40f0-c6fc-5e2abf7870e3",
        "colab": {
          "base_uri": "https://localhost:8080/",
          "height": 265
        }
      },
      "source": [
        "p=[]\n",
        "for i in range(X_second.shape[1]):\n",
        "  p.append(abs(stats.pearsonr(X_second[:,i], y_second['y'])[0]))\n",
        "p.sort()\n",
        "plt.plot(p)\n",
        "plt.show()"
      ],
      "execution_count": 21,
      "outputs": [
        {
          "output_type": "display_data",
          "data": {
            "image/png": "[encoded data removed]",
            "text/plain": [
              "<Figure size 432x288 with 1 Axes>"
            ]
          },
          "metadata": {
            "tags": [],
            "needs_background": "light"
          }
        }
      ]
    },
    {
      "cell_type": "code",
      "metadata": {
        "id": "4YMgVmVr4_5u",
        "outputId": "c683b2ae-0e2a-4093-aa2a-ac34a153d5e9",
        "colab": {
          "base_uri": "https://localhost:8080/",
          "height": 35
        }
      },
      "source": [
        "q=[value for value in p if value>0.15]\n",
        "len(q)"
      ],
      "execution_count": 22,
      "outputs": [
        {
          "output_type": "execute_result",
          "data": {
            "text/plain": [
              "141"
            ]
          },
          "metadata": {
            "tags": []
          },
          "execution_count": 22
        }
      ]
    },
    {
      "cell_type": "code",
      "metadata": {
        "id": "dWG6jCsw5Lzs"
      },
      "source": [
        "kbest = SelectKBest(f_classif,k=len(q)).fit(X_second,y_second['y'])\n",
        "X_second = kbest.transform(X_second)"
      ],
      "execution_count": 23,
      "outputs": []
    },
    {
      "cell_type": "code",
      "metadata": {
        "id": "WNjv9mbJ5Rcg"
      },
      "source": [
        "X_second_train, X_second_val, y_second_train, y_second_val = train_test_split(\n",
        "    X_second, y_second['y'], test_size=0.2, random_state=36)"
      ],
      "execution_count": 24,
      "outputs": []
    },
    {
      "cell_type": "markdown",
      "metadata": {
        "id": "3WXubWn8_Eey"
      },
      "source": [
        "## Training"
      ]
    },
    {
      "cell_type": "markdown",
      "metadata": {
        "id": "SgbhXdGr_HCG"
      },
      "source": [
        "### SVC"
      ]
    },
    {
      "cell_type": "code",
      "metadata": {
        "id": "oQY2tcw-5Tt_",
        "outputId": "9aa3b6f5-36c6-4111-ac90-c277fa15ca37",
        "colab": {
          "base_uri": "https://localhost:8080/",
          "height": 297
        }
      },
      "source": [
        "parameters = {'kernel':('linear', 'rbf'), 'C':[0.1, 1, 10, 100]}\n",
        "\n",
        "svc = SVC(class_weight='balanced',decision_function_shape='ovo', random_state=36)\n",
        "clf2 = GridSearchCV(estimator=svc, param_grid=parameters, scoring='balanced_accuracy',return_train_score=True)\n",
        "clf2.fit(X_second_train, y_second_train)\n",
        "print(clf1.best_params_)\n",
        "plot_confusion_matrix(clf2, X_second_val, y_second_val)\n",
        "plt.show() "
      ],
      "execution_count": 25,
      "outputs": [
        {
          "output_type": "stream",
          "text": [
            "{'C': 1, 'kernel': 'rbf'}\n"
          ],
          "name": "stdout"
        },
        {
          "output_type": "display_data",
          "data": {
            "image/png": "[encoded data removed]",
            "text/plain": [
              "<Figure size 432x288 with 2 Axes>"
            ]
          },
          "metadata": {
            "tags": [],
            "needs_background": "light"
          }
        }
      ]
    },
    {
      "cell_type": "markdown",
      "metadata": {
        "id": "7Y0EUZdH_JtS"
      },
      "source": [
        "### KNN"
      ]
    },
    {
      "cell_type": "code",
      "metadata": {
        "id": "VPc7XEEm9xpA",
        "outputId": "19cf8cff-5d18-4e6e-ebef-5e5f2fce845b",
        "colab": {
          "base_uri": "https://localhost:8080/",
          "height": 297
        }
      },
      "source": [
        "parameters = {'n_neighbors':[1, 3, 5]}\n",
        "neigh = KNeighborsClassifier()\n",
        "clf_nn = GridSearchCV(estimator=neigh, param_grid=parameters, scoring='balanced_accuracy',return_train_score=True)\n",
        "clf_nn.fit(X_second_train, y_second_train)\n",
        "print(clf_nn.best_params_)\n",
        "plot_confusion_matrix(clf_nn, X_second_val, y_second_val)\n",
        "plt.show() "
      ],
      "execution_count": 26,
      "outputs": [
        {
          "output_type": "stream",
          "text": [
            "{'n_neighbors': 3}\n"
          ],
          "name": "stdout"
        },
        {
          "output_type": "display_data",
          "data": {
            "image/png": "[encoded data removed]",
            "text/plain": [
              "<Figure size 432x288 with 2 Axes>"
            ]
          },
          "metadata": {
            "tags": [],
            "needs_background": "light"
          }
        }
      ]
    },
    {
      "cell_type": "markdown",
      "metadata": {
        "id": "ZB91XCa-_MCa"
      },
      "source": [
        "### Decision Tree"
      ]
    },
    {
      "cell_type": "code",
      "metadata": {
        "id": "hkpJVHG4-Zor",
        "outputId": "33b8e382-1c75-4f3e-9ba9-7649e97caed1",
        "colab": {
          "base_uri": "https://localhost:8080/",
          "height": 279
        }
      },
      "source": [
        "tree = DecisionTreeClassifier(class_weight='balanced', random_state=36)\n",
        "tree.fit(X_second_train, y_second_train)\n",
        "plot_confusion_matrix(tree, X_second_val, y_second_val)\n",
        "plt.show() "
      ],
      "execution_count": 27,
      "outputs": [
        {
          "output_type": "display_data",
          "data": {
            "image/png": "[encoded data removed]",
            "text/plain": [
              "<Figure size 432x288 with 2 Axes>"
            ]
          },
          "metadata": {
            "tags": [],
            "needs_background": "light"
          }
        }
      ]
    }
  ]
}