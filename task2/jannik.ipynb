{
  "nbformat": 4,
  "nbformat_minor": 0,
  "metadata": {
    "colab": {
      "name": "Untitled6.ipynb",
      "provenance": [],
      "authorship_tag": "ABX9TyMOMF49Gk2SrhkEmYpCRuMN",
      "include_colab_link": true
    },
    "kernelspec": {
      "name": "python3",
      "display_name": "Python 3"
    }
  },
  "cells": [
    {
      "cell_type": "markdown",
      "metadata": {
        "id": "view-in-github",
        "colab_type": "text"
      },
      "source": [
        "<a href=\"https://colab.research.google.com/github/lblum95/AML/blob/master/task2/jannik.ipynb\" target=\"_parent\"><img src=\"https://colab.research.google.com/assets/colab-badge.svg\" alt=\"Open In Colab\"/></a>"
      ]
    },
    {
      "cell_type": "code",
      "metadata": {
        "id": "UZaF6SnqwL3W",
        "outputId": "3a30dbb3-8c31-4437-bb2a-51e39ecd3f98",
        "colab": {
          "base_uri": "https://localhost:8080/",
          "height": 35
        }
      },
      "source": [
        "from google.colab import drive\n",
        "drive.mount('/content/drive')\n",
        "import os\n",
        "os.chdir('/content/drive/My Drive')"
      ],
      "execution_count": 1,
      "outputs": [
        {
          "output_type": "stream",
          "text": [
            "Mounted at /content/drive\n"
          ],
          "name": "stdout"
        }
      ]
    },
    {
      "cell_type": "code",
      "metadata": {
        "id": "85wnC4eFzcWh"
      },
      "source": [
        "%matplotlib inline "
      ],
      "execution_count": null,
      "outputs": []
    },
    {
      "cell_type": "code",
      "metadata": {
        "id": "_-AbzevswOvI"
      },
      "source": [
        "import pandas as pd\n",
        "import numpy as np\n",
        "from matplotlib import pyplot as plt\n",
        "import umap\n",
        "import seaborn as sns\n",
        "from sklearn.preprocessing import StandardScaler"
      ],
      "execution_count": 32,
      "outputs": []
    },
    {
      "cell_type": "code",
      "metadata": {
        "id": "cgcOzHYvwSu_"
      },
      "source": [
        "x_train = pd.read_csv(\"data/X_train.csv\",index_col=0,header = 0)\n",
        "y_train = pd.read_csv(\"data/y_train.csv\",index_col=0,header = 0)\n",
        "x_test = pd.read_csv(\"data/X_test.csv\",index_col=0,header = 0)"
      ],
      "execution_count": 3,
      "outputs": []
    },
    {
      "cell_type": "code",
      "metadata": {
        "id": "61siOJP8wWBi",
        "outputId": "1a0eee71-2930-4477-b494-5f2586ec161d",
        "colab": {
          "base_uri": "https://localhost:8080/",
          "height": 35
        }
      },
      "source": [
        "x_train = x_train.loc[:,x_train.apply(pd.Series.nunique) != 1]\n",
        "x_test = x_test.loc[:,x_test.apply(pd.Series.nunique) != 1]\n",
        "print(x_train.shape)"
      ],
      "execution_count": 4,
      "outputs": [
        {
          "output_type": "stream",
          "text": [
            "(4800, 1000)\n"
          ],
          "name": "stdout"
        }
      ]
    },
    {
      "cell_type": "code",
      "metadata": {
        "id": "nOiAMOIBwhAS",
        "outputId": "92923d7e-9814-40f5-fb8e-a7828f8f51b8",
        "colab": {
          "base_uri": "https://localhost:8080/",
          "height": 161
        }
      },
      "source": [
        "x_train.head(1)"
      ],
      "execution_count": 5,
      "outputs": [
        {
          "output_type": "execute_result",
          "data": {
            "text/html": [
              "<div>\n",
              "<style scoped>\n",
              "    .dataframe tbody tr th:only-of-type {\n",
              "        vertical-align: middle;\n",
              "    }\n",
              "\n",
              "    .dataframe tbody tr th {\n",
              "        vertical-align: top;\n",
              "    }\n",
              "\n",
              "    .dataframe thead th {\n",
              "        text-align: right;\n",
              "    }\n",
              "</style>\n",
              "<table border=\"1\" class=\"dataframe\">\n",
              "  <thead>\n",
              "    <tr style=\"text-align: right;\">\n",
              "      <th></th>\n",
              "      <th>x0</th>\n",
              "      <th>x1</th>\n",
              "      <th>x2</th>\n",
              "      <th>x3</th>\n",
              "      <th>x4</th>\n",
              "      <th>x5</th>\n",
              "      <th>x6</th>\n",
              "      <th>x7</th>\n",
              "      <th>x8</th>\n",
              "      <th>x9</th>\n",
              "      <th>x10</th>\n",
              "      <th>x11</th>\n",
              "      <th>x12</th>\n",
              "      <th>x13</th>\n",
              "      <th>x14</th>\n",
              "      <th>x15</th>\n",
              "      <th>x16</th>\n",
              "      <th>x17</th>\n",
              "      <th>x18</th>\n",
              "      <th>x19</th>\n",
              "      <th>x20</th>\n",
              "      <th>x21</th>\n",
              "      <th>x22</th>\n",
              "      <th>x23</th>\n",
              "      <th>x24</th>\n",
              "      <th>x25</th>\n",
              "      <th>x26</th>\n",
              "      <th>x27</th>\n",
              "      <th>x28</th>\n",
              "      <th>x29</th>\n",
              "      <th>x30</th>\n",
              "      <th>x31</th>\n",
              "      <th>x32</th>\n",
              "      <th>x33</th>\n",
              "      <th>x34</th>\n",
              "      <th>x35</th>\n",
              "      <th>x36</th>\n",
              "      <th>x37</th>\n",
              "      <th>x38</th>\n",
              "      <th>x39</th>\n",
              "      <th>...</th>\n",
              "      <th>x960</th>\n",
              "      <th>x961</th>\n",
              "      <th>x962</th>\n",
              "      <th>x963</th>\n",
              "      <th>x964</th>\n",
              "      <th>x965</th>\n",
              "      <th>x966</th>\n",
              "      <th>x967</th>\n",
              "      <th>x968</th>\n",
              "      <th>x969</th>\n",
              "      <th>x970</th>\n",
              "      <th>x971</th>\n",
              "      <th>x972</th>\n",
              "      <th>x973</th>\n",
              "      <th>x974</th>\n",
              "      <th>x975</th>\n",
              "      <th>x976</th>\n",
              "      <th>x977</th>\n",
              "      <th>x978</th>\n",
              "      <th>x979</th>\n",
              "      <th>x980</th>\n",
              "      <th>x981</th>\n",
              "      <th>x982</th>\n",
              "      <th>x983</th>\n",
              "      <th>x984</th>\n",
              "      <th>x985</th>\n",
              "      <th>x986</th>\n",
              "      <th>x987</th>\n",
              "      <th>x988</th>\n",
              "      <th>x989</th>\n",
              "      <th>x990</th>\n",
              "      <th>x991</th>\n",
              "      <th>x992</th>\n",
              "      <th>x993</th>\n",
              "      <th>x994</th>\n",
              "      <th>x995</th>\n",
              "      <th>x996</th>\n",
              "      <th>x997</th>\n",
              "      <th>x998</th>\n",
              "      <th>x999</th>\n",
              "    </tr>\n",
              "    <tr>\n",
              "      <th>id</th>\n",
              "      <th></th>\n",
              "      <th></th>\n",
              "      <th></th>\n",
              "      <th></th>\n",
              "      <th></th>\n",
              "      <th></th>\n",
              "      <th></th>\n",
              "      <th></th>\n",
              "      <th></th>\n",
              "      <th></th>\n",
              "      <th></th>\n",
              "      <th></th>\n",
              "      <th></th>\n",
              "      <th></th>\n",
              "      <th></th>\n",
              "      <th></th>\n",
              "      <th></th>\n",
              "      <th></th>\n",
              "      <th></th>\n",
              "      <th></th>\n",
              "      <th></th>\n",
              "      <th></th>\n",
              "      <th></th>\n",
              "      <th></th>\n",
              "      <th></th>\n",
              "      <th></th>\n",
              "      <th></th>\n",
              "      <th></th>\n",
              "      <th></th>\n",
              "      <th></th>\n",
              "      <th></th>\n",
              "      <th></th>\n",
              "      <th></th>\n",
              "      <th></th>\n",
              "      <th></th>\n",
              "      <th></th>\n",
              "      <th></th>\n",
              "      <th></th>\n",
              "      <th></th>\n",
              "      <th></th>\n",
              "      <th></th>\n",
              "      <th></th>\n",
              "      <th></th>\n",
              "      <th></th>\n",
              "      <th></th>\n",
              "      <th></th>\n",
              "      <th></th>\n",
              "      <th></th>\n",
              "      <th></th>\n",
              "      <th></th>\n",
              "      <th></th>\n",
              "      <th></th>\n",
              "      <th></th>\n",
              "      <th></th>\n",
              "      <th></th>\n",
              "      <th></th>\n",
              "      <th></th>\n",
              "      <th></th>\n",
              "      <th></th>\n",
              "      <th></th>\n",
              "      <th></th>\n",
              "      <th></th>\n",
              "      <th></th>\n",
              "      <th></th>\n",
              "      <th></th>\n",
              "      <th></th>\n",
              "      <th></th>\n",
              "      <th></th>\n",
              "      <th></th>\n",
              "      <th></th>\n",
              "      <th></th>\n",
              "      <th></th>\n",
              "      <th></th>\n",
              "      <th></th>\n",
              "      <th></th>\n",
              "      <th></th>\n",
              "      <th></th>\n",
              "      <th></th>\n",
              "      <th></th>\n",
              "      <th></th>\n",
              "      <th></th>\n",
              "    </tr>\n",
              "  </thead>\n",
              "  <tbody>\n",
              "    <tr>\n",
              "      <th>0.0</th>\n",
              "      <td>-1.498973</td>\n",
              "      <td>1.448201</td>\n",
              "      <td>2.784979</td>\n",
              "      <td>1.905992</td>\n",
              "      <td>1.285007</td>\n",
              "      <td>-0.571679</td>\n",
              "      <td>1.253798</td>\n",
              "      <td>-2.590709</td>\n",
              "      <td>1.379211</td>\n",
              "      <td>-1.553323</td>\n",
              "      <td>-0.564972</td>\n",
              "      <td>2.584993</td>\n",
              "      <td>0.011699</td>\n",
              "      <td>0.441804</td>\n",
              "      <td>-0.69996</td>\n",
              "      <td>1.747325</td>\n",
              "      <td>2.065368</td>\n",
              "      <td>2.787858</td>\n",
              "      <td>2.013942</td>\n",
              "      <td>-1.401352</td>\n",
              "      <td>2.147372</td>\n",
              "      <td>0.61787</td>\n",
              "      <td>2.141796</td>\n",
              "      <td>-2.781471</td>\n",
              "      <td>0.413109</td>\n",
              "      <td>2.345852</td>\n",
              "      <td>0.030399</td>\n",
              "      <td>0.887061</td>\n",
              "      <td>-1.232804</td>\n",
              "      <td>0.109728</td>\n",
              "      <td>4.319156</td>\n",
              "      <td>3.178303</td>\n",
              "      <td>0.184391</td>\n",
              "      <td>-1.243393</td>\n",
              "      <td>1.406802</td>\n",
              "      <td>3.132227</td>\n",
              "      <td>-0.215465</td>\n",
              "      <td>1.505367</td>\n",
              "      <td>-0.503517</td>\n",
              "      <td>0.270487</td>\n",
              "      <td>...</td>\n",
              "      <td>1.34822</td>\n",
              "      <td>-1.877967</td>\n",
              "      <td>-0.739429</td>\n",
              "      <td>1.566261</td>\n",
              "      <td>2.73032</td>\n",
              "      <td>-2.380653</td>\n",
              "      <td>-2.652265</td>\n",
              "      <td>0.176041</td>\n",
              "      <td>2.00811</td>\n",
              "      <td>0.240972</td>\n",
              "      <td>0.710862</td>\n",
              "      <td>-1.695216</td>\n",
              "      <td>4.116688</td>\n",
              "      <td>0.84954</td>\n",
              "      <td>0.958647</td>\n",
              "      <td>0.514287</td>\n",
              "      <td>-2.362364</td>\n",
              "      <td>0.145864</td>\n",
              "      <td>0.874874</td>\n",
              "      <td>-1.650551</td>\n",
              "      <td>-0.709709</td>\n",
              "      <td>1.894579</td>\n",
              "      <td>2.585351</td>\n",
              "      <td>1.893157</td>\n",
              "      <td>-1.464831</td>\n",
              "      <td>4.246892</td>\n",
              "      <td>-4.139556</td>\n",
              "      <td>-2.965517</td>\n",
              "      <td>3.240977</td>\n",
              "      <td>1.190587</td>\n",
              "      <td>2.638401</td>\n",
              "      <td>-1.365574</td>\n",
              "      <td>2.856497</td>\n",
              "      <td>-1.916006</td>\n",
              "      <td>1.4069</td>\n",
              "      <td>-2.581604</td>\n",
              "      <td>0.839115</td>\n",
              "      <td>-0.004883</td>\n",
              "      <td>3.173465</td>\n",
              "      <td>2.179183</td>\n",
              "    </tr>\n",
              "  </tbody>\n",
              "</table>\n",
              "<p>1 rows × 1000 columns</p>\n",
              "</div>"
            ],
            "text/plain": [
              "           x0        x1        x2  ...      x997      x998      x999\n",
              "id                                 ...                              \n",
              "0.0 -1.498973  1.448201  2.784979  ... -0.004883  3.173465  2.179183\n",
              "\n",
              "[1 rows x 1000 columns]"
            ]
          },
          "metadata": {
            "tags": []
          },
          "execution_count": 5
        }
      ]
    },
    {
      "cell_type": "code",
      "metadata": {
        "id": "VgxURc3Bx9dh"
      },
      "source": [
        "test=x_train.iloc[1]"
      ],
      "execution_count": 11,
      "outputs": []
    },
    {
      "cell_type": "code",
      "metadata": {
        "id": "F1nNDvyryBVC",
        "outputId": "93d0bb99-6a4e-46f6-c49b-8c8d92f3d72f",
        "colab": {
          "base_uri": "https://localhost:8080/",
          "height": 182
        }
      },
      "source": [
        "plt.imshow(np.array(test).reshape(20,50), interpolation='nearest')\n",
        "plt.show()"
      ],
      "execution_count": 14,
      "outputs": [
        {
          "output_type": "display_data",
          "data": {
            "image/png": "[encoded data removed]",
            "text/plain": [
              "<Figure size 432x288 with 1 Axes>"
            ]
          },
          "metadata": {
            "tags": [],
            "needs_background": "light"
          }
        }
      ]
    },
    {
      "cell_type": "code",
      "metadata": {
        "id": "YVUt_6ZzyW9S",
        "outputId": "20ebebba-1243-466d-add1-41e5d151bfae",
        "colab": {
          "base_uri": "https://localhost:8080/",
          "height": 267
        }
      },
      "source": [
        "plt.imshow(np.array(test).reshape(50,20), interpolation='nearest')\n",
        "plt.show()"
      ],
      "execution_count": 16,
      "outputs": [
        {
          "output_type": "display_data",
          "data": {
            "image/png": "[encoded data removed]",
            "text/plain": [
              "<Figure size 432x288 with 1 Axes>"
            ]
          },
          "metadata": {
            "tags": [],
            "needs_background": "light"
          }
        }
      ]
    },
    {
      "cell_type": "code",
      "metadata": {
        "id": "4pgAzkvsyh1-",
        "outputId": "62966f23-20ae-47d3-e7b9-255cc528415c",
        "colab": {
          "base_uri": "https://localhost:8080/",
          "height": 266
        }
      },
      "source": [
        "plt.imshow(np.array(test[:990]).reshape(33,30), interpolation='nearest')\n",
        "plt.show()"
      ],
      "execution_count": 17,
      "outputs": [
        {
          "output_type": "display_data",
          "data": {
            "image/png": "[encoded data removed]",
            "text/plain": [
              "<Figure size 432x288 with 1 Axes>"
            ]
          },
          "metadata": {
            "tags": [],
            "needs_background": "light"
          }
        }
      ]
    },
    {
      "cell_type": "code",
      "metadata": {
        "id": "aqsFQv8HywyB",
        "outputId": "ca6f33c3-9a22-4f29-95e8-de74672d24d2",
        "colab": {
          "base_uri": "https://localhost:8080/",
          "height": 266
        }
      },
      "source": [
        "plt.imshow(np.array(test[:990]).reshape(30,33), interpolation='nearest')\n",
        "plt.show()"
      ],
      "execution_count": 18,
      "outputs": [
        {
          "output_type": "display_data",
          "data": {
            "image/png": "[encoded data removed]",
            "text/plain": [
              "<Figure size 432x288 with 1 Axes>"
            ]
          },
          "metadata": {
            "tags": [],
            "needs_background": "light"
          }
        }
      ]
    },
    {
      "cell_type": "code",
      "metadata": {
        "id": "ndSB-ZSt2cYB",
        "outputId": "c4393400-f2ea-4495-9cdb-85af856bd32c",
        "colab": {
          "base_uri": "https://localhost:8080/",
          "height": 265
        }
      },
      "source": [
        "reducer = umap.UMAP()\n",
        "data = x_train.values\n",
        "embedding = reducer.fit_transform(data)\n",
        "plt.scatter(\n",
        "    embedding[:, 0],\n",
        "    embedding[:, 1],\n",
        "    c=[sns.color_palette()[x] for x in y_train['y']])\n",
        "plt.gca().set_aspect('equal', 'datalim')\n",
        "plt.show()"
      ],
      "execution_count": 37,
      "outputs": [
        {
          "output_type": "display_data",
          "data": {
            "image/png": "[encoded data removed]",
            "text/plain": [
              "<Figure size 432x288 with 1 Axes>"
            ]
          },
          "metadata": {
            "tags": [],
            "needs_background": "light"
          }
        }
      ]
    },
    {
      "cell_type": "code",
      "metadata": {
        "id": "tGIai6037-yW",
        "outputId": "129858c9-0c16-4d9d-9a9a-dbfb7f17e92f",
        "colab": {
          "base_uri": "https://localhost:8080/",
          "height": 35
        }
      },
      "source": [
        "scaler = StandardScaler()\n",
        "x_train = scaler.fit_transform(x_train)\n",
        "x_test = scaler.transform(x_test)\n",
        "print(x_train.shape)"
      ],
      "execution_count": 40,
      "outputs": [
        {
          "output_type": "stream",
          "text": [
            "(4800, 1000)\n"
          ],
          "name": "stdout"
        }
      ]
    },
    {
      "cell_type": "code",
      "metadata": {
        "id": "nq4hIZ_f8fPj"
      },
      "source": [
        "from sklearn.feature_selection import SelectKBest, f_classif\n",
        "from sklearn.model_selection import train_test_split\n",
        "from sklearn.svm import SVC\n",
        "from sklearn.metrics import balanced_accuracy_score\n",
        "from sklearn.model_selection import GridSearchCV"
      ],
      "execution_count": 58,
      "outputs": []
    },
    {
      "cell_type": "code",
      "metadata": {
        "id": "SmteAuZa8inV",
        "outputId": "39d0c127-ca5b-468f-a344-db0cd43d45bf",
        "colab": {
          "base_uri": "https://localhost:8080/",
          "height": 1000
        }
      },
      "source": [
        "X_train, X_test, Y_train, Y_test = train_test_split(x_train, y_train, test_size=0.33, random_state=42)\n",
        "for amount in range(5,500,5):\n",
        "  kbest = SelectKBest(f_classif,k=amount).fit(X_train,Y_train.values.ravel())\n",
        "  X_best = kbest.transform(X_train)\n",
        "  X_val = kbest.transform(X_test)\n",
        "  parameters = {'kernel':('linear','rbf','sigmoid'), 'C':[0.1, 1, 10,100], 'class_weight':['balanced']} \n",
        "  svc = SVC()\n",
        "  clf = GridSearchCV(svc, parameters)\n",
        "  clf.fit(X_best,Y_train.values.ravel())\n",
        "  BMAC = balanced_accuracy_score(Y_test.values.ravel(), clf.predict(X_val))\n",
        "  print(\"Score:\"+str(BMAC)+\" Amount: \"+str(amount))\n",
        "  print(clf.best_params_)"
      ],
      "execution_count": null,
      "outputs": [
        {
          "output_type": "stream",
          "text": [
            "Score:0.6160904889114462 Amount: 5\n",
            "{'C': 10, 'class_weight': 'balanced', 'kernel': 'linear'}\n",
            "Score:0.6088392355255762 Amount: 10\n",
            "{'C': 100, 'class_weight': 'balanced', 'kernel': 'rbf'}\n",
            "Score:0.6013128091397116 Amount: 15\n",
            "{'C': 100, 'class_weight': 'balanced', 'kernel': 'rbf'}\n",
            "Score:0.5699240714666435 Amount: 20\n",
            "{'C': 100, 'class_weight': 'balanced', 'kernel': 'rbf'}\n",
            "Score:0.5678940274980854 Amount: 25\n",
            "{'C': 100, 'class_weight': 'balanced', 'kernel': 'rbf'}\n",
            "Score:0.5427821960084481 Amount: 30\n",
            "{'C': 100, 'class_weight': 'balanced', 'kernel': 'rbf'}\n",
            "Score:0.574069090394771 Amount: 35\n",
            "{'C': 100, 'class_weight': 'balanced', 'kernel': 'rbf'}\n",
            "Score:0.570143362830651 Amount: 40\n",
            "{'C': 100, 'class_weight': 'balanced', 'kernel': 'rbf'}\n",
            "Score:0.5798658579235271 Amount: 45\n",
            "{'C': 100, 'class_weight': 'balanced', 'kernel': 'rbf'}\n",
            "Score:0.5716525649386678 Amount: 50\n",
            "{'C': 100, 'class_weight': 'balanced', 'kernel': 'rbf'}\n",
            "Score:0.5879078961490675 Amount: 55\n",
            "{'C': 100, 'class_weight': 'balanced', 'kernel': 'rbf'}\n",
            "Score:0.5837508822817807 Amount: 60\n",
            "{'C': 100, 'class_weight': 'balanced', 'kernel': 'rbf'}\n",
            "Score:0.5969549795256053 Amount: 65\n",
            "{'C': 100, 'class_weight': 'balanced', 'kernel': 'rbf'}\n",
            "Score:0.5955947761642026 Amount: 70\n",
            "{'C': 100, 'class_weight': 'balanced', 'kernel': 'rbf'}\n",
            "Score:0.5848751093756538 Amount: 75\n",
            "{'C': 100, 'class_weight': 'balanced', 'kernel': 'rbf'}\n",
            "Score:0.5961847168330268 Amount: 80\n",
            "{'C': 100, 'class_weight': 'balanced', 'kernel': 'rbf'}\n",
            "Score:0.5780035725590356 Amount: 85\n",
            "{'C': 100, 'class_weight': 'balanced', 'kernel': 'rbf'}\n",
            "Score:0.5817972420963015 Amount: 90\n",
            "{'C': 100, 'class_weight': 'balanced', 'kernel': 'rbf'}\n",
            "Score:0.580814140293718 Amount: 95\n",
            "{'C': 100, 'class_weight': 'balanced', 'kernel': 'rbf'}\n",
            "Score:0.5872415516971645 Amount: 100\n",
            "{'C': 100, 'class_weight': 'balanced', 'kernel': 'rbf'}\n",
            "Score:0.5883426416335129 Amount: 105\n",
            "{'C': 100, 'class_weight': 'balanced', 'kernel': 'rbf'}\n",
            "Score:0.5806510716540145 Amount: 110\n",
            "{'C': 100, 'class_weight': 'balanced', 'kernel': 'rbf'}\n",
            "Score:0.5780498468740848 Amount: 115\n",
            "{'C': 100, 'class_weight': 'balanced', 'kernel': 'rbf'}\n",
            "Score:0.5681780403703036 Amount: 120\n",
            "{'C': 100, 'class_weight': 'balanced', 'kernel': 'rbf'}\n",
            "Score:0.571953262714408 Amount: 125\n",
            "{'C': 100, 'class_weight': 'balanced', 'kernel': 'rbf'}\n",
            "Score:0.5667680665385993 Amount: 130\n",
            "{'C': 100, 'class_weight': 'balanced', 'kernel': 'rbf'}\n",
            "Score:0.5727732958772882 Amount: 135\n",
            "{'C': 100, 'class_weight': 'balanced', 'kernel': 'rbf'}\n",
            "Score:0.5536043598363504 Amount: 140\n",
            "{'C': 100, 'class_weight': 'balanced', 'kernel': 'rbf'}\n",
            "Score:0.5603175179776282 Amount: 145\n",
            "{'C': 100, 'class_weight': 'balanced', 'kernel': 'rbf'}\n",
            "Score:0.5618407899787343 Amount: 150\n",
            "{'C': 100, 'class_weight': 'balanced', 'kernel': 'rbf'}\n",
            "Score:0.5703257598083357 Amount: 155\n",
            "{'C': 100, 'class_weight': 'balanced', 'kernel': 'rbf'}\n",
            "Score:0.5595378753563236 Amount: 160\n",
            "{'C': 100, 'class_weight': 'balanced', 'kernel': 'rbf'}\n",
            "Score:0.5689204759409945 Amount: 165\n",
            "{'C': 100, 'class_weight': 'balanced', 'kernel': 'rbf'}\n",
            "Score:0.5628470289388424 Amount: 170\n",
            "{'C': 100, 'class_weight': 'balanced', 'kernel': 'rbf'}\n",
            "Score:0.5683861895159457 Amount: 175\n",
            "{'C': 100, 'class_weight': 'balanced', 'kernel': 'rbf'}\n",
            "Score:0.5719717099075696 Amount: 180\n",
            "{'C': 100, 'class_weight': 'balanced', 'kernel': 'rbf'}\n",
            "Score:0.5745059108331468 Amount: 185\n",
            "{'C': 100, 'class_weight': 'balanced', 'kernel': 'rbf'}\n"
          ],
          "name": "stdout"
        }
      ]
    }
  ]
}