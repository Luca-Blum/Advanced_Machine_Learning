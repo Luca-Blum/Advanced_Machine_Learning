{
  "nbformat": 4,
  "nbformat_minor": 0,
  "metadata": {
    "colab": {
      "name": "Kopie von Kopie von task1.ipynb",
      "provenance": [],
      "collapsed_sections": [],
      "include_colab_link": true
    },
    "kernelspec": {
      "name": "python3",
      "display_name": "Python 3"
    }
  },
  "cells": [
    {
      "cell_type": "markdown",
      "metadata": {
        "id": "view-in-github",
        "colab_type": "text"
      },
      "source": [
        "<a href=\"https://colab.research.google.com/github/lblum95/AML/blob/master/task1-Jannik.ipynb\" target=\"_parent\"><img src=\"https://colab.research.google.com/assets/colab-badge.svg\" alt=\"Open In Colab\"/></a>"
      ]
    },
    {
      "cell_type": "markdown",
      "metadata": {
        "id": "gbXB74Yo46P1"
      },
      "source": [
        "# AML first project"
      ]
    },
    {
      "cell_type": "markdown",
      "metadata": {
        "id": "uo_5XT094_rK"
      },
      "source": [
        "## Data ingestion"
      ]
    },
    {
      "cell_type": "markdown",
      "metadata": {
        "id": "nPW_K3biymfg"
      },
      "source": [
        "### Connect to drive"
      ]
    },
    {
      "cell_type": "code",
      "metadata": {
        "id": "QHFWrWVCdcUO",
        "outputId": "f1ff80cf-2bf7-49f5-c7b0-d21487deb721",
        "colab": {
          "base_uri": "https://localhost:8080/",
          "height": 35
        }
      },
      "source": [
        "from google.colab import drive\n",
        "drive.mount('/content/drive')\n",
        "import os\n",
        "os.chdir('/content/drive/My Drive')"
      ],
      "execution_count": 1,
      "outputs": [
        {
          "output_type": "stream",
          "text": [
            "Drive already mounted at /content/drive; to attempt to forcibly remount, call drive.mount(\"/content/drive\", force_remount=True).\n"
          ],
          "name": "stdout"
        }
      ]
    },
    {
      "cell_type": "markdown",
      "metadata": {
        "id": "87COONMgy0C-"
      },
      "source": [
        "### Import all data libraries"
      ]
    },
    {
      "cell_type": "code",
      "metadata": {
        "id": "hmTNR51VyuFw"
      },
      "source": [
        "import pandas as pd\n",
        "import numpy as np\n",
        "from sklearn.experimental import enable_iterative_imputer\n",
        "from sklearn.impute import IterativeImputer\n",
        "from sklearn.preprocessing import StandardScaler\n",
        "from sklearn.ensemble import IsolationForest\n",
        "from sklearn.model_selection import KFold"
      ],
      "execution_count": 2,
      "outputs": []
    },
    {
      "cell_type": "markdown",
      "metadata": {
        "id": "NKl0bivD2hb-"
      },
      "source": [
        "### Import data"
      ]
    },
    {
      "cell_type": "code",
      "metadata": {
        "id": "auO5NH0VzvUO"
      },
      "source": [
        "x_train = pd.read_csv(\"data/X_train.csv\",index_col=0,header = 0)\n",
        "y_train = pd.read_csv(\"data/y_train.csv\",index_col=0,header = 0)\n",
        "x_test = pd.read_csv(\"data/X_test.csv\",index_col=0,header = 0)"
      ],
      "execution_count": 3,
      "outputs": []
    },
    {
      "cell_type": "markdown",
      "metadata": {
        "id": "VdQBM84p4suD"
      },
      "source": [
        "### Data cleaning\n"
      ]
    },
    {
      "cell_type": "markdown",
      "metadata": {
        "id": "Ng7riTBmL1yk"
      },
      "source": [
        "Drop constant columns"
      ]
    },
    {
      "cell_type": "code",
      "metadata": {
        "id": "ESNfLtNT4rto",
        "outputId": "1f666309-8e68-4695-b612-754978811780",
        "colab": {
          "base_uri": "https://localhost:8080/",
          "height": 35
        }
      },
      "source": [
        "x_train = x_train.loc[:,x_train.apply(pd.Series.nunique) != 1]\n",
        "x_test = x_test.loc[:,x_test.apply(pd.Series.nunique) != 1]\n",
        "print(x_train.shape)"
      ],
      "execution_count": 4,
      "outputs": [
        {
          "output_type": "stream",
          "text": [
            "(1212, 828)\n"
          ],
          "name": "stdout"
        }
      ]
    },
    {
      "cell_type": "markdown",
      "metadata": {
        "id": "KoXtlzVwL76k"
      },
      "source": [
        "\n",
        "\n",
        "Fill mean in NaNs"
      ]
    },
    {
      "cell_type": "code",
      "metadata": {
        "id": "QJWOJ9eY7-db",
        "outputId": "e6dc8f2f-f4db-479c-dc1c-89a19ef7fa15",
        "colab": {
          "base_uri": "https://localhost:8080/",
          "height": 35
        }
      },
      "source": [
        "imp = IterativeImputer(n_nearest_features=10)\n",
        "x_train = imp.fit_transform(x_train, y_train)\n",
        "x_test = imp.transform(x_test)\n",
        "print(x_train.shape)"
      ],
      "execution_count": 5,
      "outputs": [
        {
          "output_type": "stream",
          "text": [
            "(1212, 828)\n"
          ],
          "name": "stdout"
        }
      ]
    },
    {
      "cell_type": "markdown",
      "metadata": {
        "id": "Ws3tOQqS7Zyj"
      },
      "source": [
        "Outlier detection"
      ]
    },
    {
      "cell_type": "code",
      "metadata": {
        "id": "tjNqb3oV7bfn",
        "outputId": "f28d342f-9be2-4064-89ee-21c3a0964955",
        "colab": {
          "base_uri": "https://localhost:8080/",
          "height": 35
        }
      },
      "source": [
        "iso =IsolationForest(contamination=0.04).fit(x_train,y_train)\n",
        "clfTrain = iso.predict(x_train)\n",
        "clfTest = iso.predict(x_test)\n",
        "print(x_train.shape)"
      ],
      "execution_count": 6,
      "outputs": [
        {
          "output_type": "stream",
          "text": [
            "(1212, 828)\n"
          ],
          "name": "stdout"
        }
      ]
    },
    {
      "cell_type": "markdown",
      "metadata": {
        "id": "3x5Atu5kbt7D"
      },
      "source": [
        "Scale data"
      ]
    },
    {
      "cell_type": "code",
      "metadata": {
        "id": "zR9HiO5zbtLV",
        "outputId": "b4e44c4d-53a8-4528-97f4-9ff7ed4a062b",
        "colab": {
          "base_uri": "https://localhost:8080/",
          "height": 35
        }
      },
      "source": [
        "scaler = StandardScaler()\n",
        "x_train = scaler.fit_transform(x_train)\n",
        "x_test = scaler.transform(x_test)\n",
        "print(x_train.shape)"
      ],
      "execution_count": 7,
      "outputs": [
        {
          "output_type": "stream",
          "text": [
            "(1212, 828)\n"
          ],
          "name": "stdout"
        }
      ]
    },
    {
      "cell_type": "markdown",
      "metadata": {
        "id": "H5SCbGMPuGyc"
      },
      "source": [
        "## Feature selection"
      ]
    },
    {
      "cell_type": "markdown",
      "metadata": {
        "id": "eUk5aTqxuMaV"
      },
      "source": [
        "### import all libraries"
      ]
    },
    {
      "cell_type": "code",
      "metadata": {
        "id": "mUKU7jsojwwk"
      },
      "source": [
        "from sklearn.feature_selection import SelectKBest, f_regression\n"
      ],
      "execution_count": 8,
      "outputs": []
    },
    {
      "cell_type": "markdown",
      "metadata": {
        "id": "Mce_KpksxmUg"
      },
      "source": [
        "### Use KBest to get features"
      ]
    },
    {
      "cell_type": "code",
      "metadata": {
        "id": "mpiRd9QKwyy9",
        "outputId": "d5ca17c3-743d-410c-e734-f8d458c0810a",
        "colab": {
          "base_uri": "https://localhost:8080/",
          "height": 35
        }
      },
      "source": [
        "kbest = SelectKBest(f_regression,k=92).fit(x_train,y_train.values.ravel())\n",
        "x_train = kbest.transform(x_train)\n",
        "x_test = kbest.transform(x_test)\n",
        "print(x_train.shape)"
      ],
      "execution_count": 9,
      "outputs": [
        {
          "output_type": "stream",
          "text": [
            "(1212, 92)\n"
          ],
          "name": "stdout"
        }
      ]
    },
    {
      "cell_type": "markdown",
      "metadata": {
        "id": "2kO_4c1K0dES"
      },
      "source": [
        "## Training model"
      ]
    },
    {
      "cell_type": "markdown",
      "metadata": {
        "id": "PYN5w6EK0qub"
      },
      "source": [
        "Import libraries"
      ]
    },
    {
      "cell_type": "code",
      "metadata": {
        "id": "R5lh9oJ_0n0z"
      },
      "source": [
        "from sklearn.svm import SVR\n",
        "from sklearn.model_selection import KFold\n",
        "from sklearn.metrics import r2_score\n",
        "from tensorflow import keras\n",
        "from tensorflow.keras import optimizers, losses, activations, models\n",
        "from tensorflow.keras.callbacks import EarlyStopping, LearningRateScheduler, ReduceLROnPlateau\n",
        "from tensorflow.keras.layers import Dense, Input, Dropout"
      ],
      "execution_count": null,
      "outputs": []
    },
    {
      "cell_type": "markdown",
      "metadata": {
        "id": "acXMjGzX2Hcy"
      },
      "source": [
        "### SVR"
      ]
    },
    {
      "cell_type": "code",
      "metadata": {
        "id": "KB5RrBgIx69p",
        "outputId": "dea854cd-cfad-484d-92fe-8821cd5f53a2",
        "colab": {
          "base_uri": "https://localhost:8080/",
          "height": 109
        }
      },
      "source": [
        "fold = KFold(n_splits = 5)\n",
        "for train_index, test_index in fold.split(x_train):\n",
        "  x_trainCV = x_train[train_index]\n",
        "  x_testCV = x_train[test_index]\n",
        "  y_trainCV = y_train.values[train_index]\n",
        "  y_testCV = y_train.values[test_index]\n",
        "  regr = SVR(C=46.415,max_iter =100000)\n",
        "  regr.fit(x_trainCV, y_trainCV.ravel())\n",
        "  y_pred = regr.predict(x_testCV)\n",
        "  print(r2_score(y_testCV,y_pred))"
      ],
      "execution_count": 13,
      "outputs": [
        {
          "output_type": "stream",
          "text": [
            "0.7141245944961871\n",
            "0.6167773662486944\n",
            "0.5643071691000952\n",
            "0.5267176426853076\n",
            "0.6426405496184833\n"
          ],
          "name": "stdout"
        }
      ]
    },
    {
      "cell_type": "markdown",
      "metadata": {
        "id": "MXeZtiub1BdC"
      },
      "source": [
        "### Neural Net"
      ]
    },
    {
      "cell_type": "markdown",
      "metadata": {
        "id": "-PRUpxum1Gac"
      },
      "source": [
        "Build model"
      ]
    },
    {
      "cell_type": "code",
      "metadata": {
        "id": "ki8QaNLBhqxa",
        "outputId": "8baa71b1-e244-4665-d1df-02943a60c1ee",
        "colab": {
          "base_uri": "https://localhost:8080/",
          "height": 1000
        }
      },
      "source": [
        "def get_model(width):\n",
        "    inp = Input(shape=(width))\n",
        "    dense_1 = Dense(width, activation=activations.selu,input_dim=width, name=\"dense_1\")(inp)\n",
        "    dense_1 = Dropout(rate=0.2)(dense_1)\n",
        "    dense_1 = Dense(width, activation=activations.selu, name=\"dense_2\")(dense_1)\n",
        "    dense_1 = Dropout(rate=0.2)(dense_1)\n",
        "    dense_1 = Dense(width, activation=activations.selu, name=\"dense_3\")(dense_1)\n",
        "    dense_1 = Dropout(rate=0.2)(dense_1)\n",
        "    dense_1 = Dense(width, activation=activations.selu, name=\"dense_4\")(dense_1)\n",
        "    dense_1 = Dense(1, name=\"output\")(dense_1)\n",
        "    model = models.Model(inputs=inp, outputs=dense_1)\n",
        "    opt = optimizers.Adam(0.01)\n",
        "    model.compile(optimizer=opt, loss=losses.mean_squared_error, metrics=['mse'])\n",
        "    model.summary()\n",
        "    return model\n",
        "model=get_model(x_train.shape[1])\n",
        "early = EarlyStopping(monitor=\"val_mse\", patience=10, verbose=1)\n",
        "redonplat = ReduceLROnPlateau(monitor=\"val_mse\", patience=5, verbose=2)\n",
        "callbacks_list = [early, redonplat]"
      ],
      "execution_count": 68,
      "outputs": [
        {
          "output_type": "stream",
          "text": [
            "Model: \"functional_56\"\n",
            "_________________________________________________________________\n",
            "Layer (type)                 Output Shape              Param #   \n",
            "=================================================================\n",
            "input_31 (InputLayer)        [(None, 92)]              0         \n",
            "_________________________________________________________________\n",
            "dense_1 (Dense)              (None, 92)                8556      \n",
            "_________________________________________________________________\n",
            "dropout_73 (Dropout)         (None, 92)                0         \n",
            "_________________________________________________________________\n",
            "dense_2 (Dense)              (None, 92)                8556      \n",
            "_________________________________________________________________\n",
            "dropout_74 (Dropout)         (None, 92)                0         \n",
            "_________________________________________________________________\n",
            "dense_3 (Dense)              (None, 92)                8556      \n",
            "_________________________________________________________________\n",
            "dropout_75 (Dropout)         (None, 92)                0         \n",
            "_________________________________________________________________\n",
            "dense_4 (Dense)              (None, 92)                8556      \n",
            "_________________________________________________________________\n",
            "output (Dense)               (None, 1)                 93        \n",
            "=================================================================\n",
            "Total params: 34,317\n",
            "Trainable params: 34,317\n",
            "Non-trainable params: 0\n",
            "_________________________________________________________________\n",
            "Epoch 1/1000\n",
            "31/31 - 0s - loss: 1821.5497 - mse: 1821.5497 - val_loss: 361.6803 - val_mse: 361.6803\n",
            "Epoch 2/1000\n",
            "31/31 - 0s - loss: 231.5003 - mse: 231.5003 - val_loss: 92.5001 - val_mse: 92.5001\n",
            "Epoch 3/1000\n",
            "31/31 - 0s - loss: 105.4720 - mse: 105.4720 - val_loss: 94.6649 - val_mse: 94.6649\n",
            "Epoch 4/1000\n",
            "31/31 - 0s - loss: 102.6284 - mse: 102.6284 - val_loss: 70.4732 - val_mse: 70.4732\n",
            "Epoch 5/1000\n",
            "31/31 - 0s - loss: 79.0513 - mse: 79.0513 - val_loss: 57.3641 - val_mse: 57.3641\n",
            "Epoch 6/1000\n",
            "31/31 - 0s - loss: 76.6401 - mse: 76.6401 - val_loss: 59.8470 - val_mse: 59.8470\n",
            "Epoch 7/1000\n",
            "31/31 - 0s - loss: 83.0168 - mse: 83.0168 - val_loss: 56.1925 - val_mse: 56.1925\n",
            "Epoch 8/1000\n",
            "31/31 - 0s - loss: 66.9247 - mse: 66.9247 - val_loss: 57.9191 - val_mse: 57.9191\n",
            "Epoch 9/1000\n",
            "31/31 - 0s - loss: 69.9611 - mse: 69.9611 - val_loss: 56.1008 - val_mse: 56.1008\n",
            "Epoch 10/1000\n",
            "31/31 - 0s - loss: 65.3795 - mse: 65.3795 - val_loss: 78.6830 - val_mse: 78.6830\n",
            "Epoch 11/1000\n",
            "31/31 - 0s - loss: 66.2510 - mse: 66.2510 - val_loss: 64.2741 - val_mse: 64.2741\n",
            "Epoch 12/1000\n",
            "31/31 - 0s - loss: 67.7325 - mse: 67.7325 - val_loss: 64.9669 - val_mse: 64.9669\n",
            "Epoch 13/1000\n",
            "31/31 - 0s - loss: 64.8508 - mse: 64.8508 - val_loss: 60.8206 - val_mse: 60.8206\n",
            "Epoch 14/1000\n",
            "\n",
            "Epoch 00014: ReduceLROnPlateau reducing learning rate to 0.0009999999776482583.\n",
            "31/31 - 0s - loss: 62.5211 - mse: 62.5211 - val_loss: 63.0178 - val_mse: 63.0178\n",
            "Epoch 15/1000\n",
            "31/31 - 0s - loss: 57.2441 - mse: 57.2441 - val_loss: 51.7208 - val_mse: 51.7208\n",
            "Epoch 16/1000\n",
            "31/31 - 0s - loss: 53.9086 - mse: 53.9086 - val_loss: 51.5747 - val_mse: 51.5747\n",
            "Epoch 17/1000\n",
            "31/31 - 0s - loss: 53.0446 - mse: 53.0446 - val_loss: 51.2758 - val_mse: 51.2758\n",
            "Epoch 18/1000\n",
            "31/31 - 0s - loss: 54.9891 - mse: 54.9891 - val_loss: 50.5001 - val_mse: 50.5001\n",
            "Epoch 19/1000\n",
            "31/31 - 0s - loss: 50.3829 - mse: 50.3829 - val_loss: 49.8671 - val_mse: 49.8671\n",
            "Epoch 20/1000\n",
            "31/31 - 0s - loss: 50.9954 - mse: 50.9954 - val_loss: 49.4781 - val_mse: 49.4781\n",
            "Epoch 21/1000\n",
            "31/31 - 0s - loss: 51.8536 - mse: 51.8536 - val_loss: 49.5311 - val_mse: 49.5311\n",
            "Epoch 22/1000\n",
            "31/31 - 0s - loss: 46.9197 - mse: 46.9197 - val_loss: 49.2809 - val_mse: 49.2809\n",
            "Epoch 23/1000\n",
            "31/31 - 0s - loss: 46.5584 - mse: 46.5584 - val_loss: 49.4211 - val_mse: 49.4211\n",
            "Epoch 24/1000\n",
            "31/31 - 0s - loss: 48.1606 - mse: 48.1606 - val_loss: 49.2341 - val_mse: 49.2341\n",
            "Epoch 25/1000\n",
            "31/31 - 0s - loss: 47.6822 - mse: 47.6822 - val_loss: 48.8354 - val_mse: 48.8354\n",
            "Epoch 26/1000\n",
            "31/31 - 0s - loss: 49.4818 - mse: 49.4818 - val_loss: 48.3075 - val_mse: 48.3075\n",
            "Epoch 27/1000\n",
            "31/31 - 0s - loss: 50.2310 - mse: 50.2310 - val_loss: 48.6794 - val_mse: 48.6794\n",
            "Epoch 28/1000\n",
            "31/31 - 0s - loss: 47.0890 - mse: 47.0890 - val_loss: 47.8176 - val_mse: 47.8176\n",
            "Epoch 29/1000\n",
            "31/31 - 0s - loss: 47.8252 - mse: 47.8252 - val_loss: 47.8421 - val_mse: 47.8421\n",
            "Epoch 30/1000\n",
            "31/31 - 0s - loss: 48.0250 - mse: 48.0250 - val_loss: 47.8110 - val_mse: 47.8110\n",
            "Epoch 31/1000\n",
            "31/31 - 0s - loss: 44.9194 - mse: 44.9194 - val_loss: 49.0250 - val_mse: 49.0250\n",
            "Epoch 32/1000\n",
            "31/31 - 0s - loss: 46.3202 - mse: 46.3202 - val_loss: 47.2905 - val_mse: 47.2905\n",
            "Epoch 33/1000\n",
            "31/31 - 0s - loss: 45.6966 - mse: 45.6966 - val_loss: 47.5819 - val_mse: 47.5819\n",
            "Epoch 34/1000\n",
            "31/31 - 0s - loss: 48.5109 - mse: 48.5109 - val_loss: 47.0552 - val_mse: 47.0552\n",
            "Epoch 35/1000\n",
            "31/31 - 0s - loss: 44.4018 - mse: 44.4018 - val_loss: 47.1708 - val_mse: 47.1708\n",
            "Epoch 36/1000\n",
            "31/31 - 0s - loss: 44.0776 - mse: 44.0776 - val_loss: 47.5780 - val_mse: 47.5780\n",
            "Epoch 37/1000\n",
            "31/31 - 0s - loss: 46.6129 - mse: 46.6129 - val_loss: 46.3981 - val_mse: 46.3981\n",
            "Epoch 38/1000\n",
            "31/31 - 0s - loss: 44.0821 - mse: 44.0821 - val_loss: 46.7445 - val_mse: 46.7445\n",
            "Epoch 39/1000\n",
            "31/31 - 0s - loss: 46.0073 - mse: 46.0073 - val_loss: 47.0631 - val_mse: 47.0631\n",
            "Epoch 40/1000\n",
            "31/31 - 0s - loss: 46.9734 - mse: 46.9734 - val_loss: 47.4512 - val_mse: 47.4512\n",
            "Epoch 41/1000\n",
            "31/31 - 0s - loss: 39.9373 - mse: 39.9373 - val_loss: 46.7007 - val_mse: 46.7007\n",
            "Epoch 42/1000\n",
            "\n",
            "Epoch 00042: ReduceLROnPlateau reducing learning rate to 9.999999310821295e-05.\n",
            "31/31 - 0s - loss: 42.3952 - mse: 42.3952 - val_loss: 47.4016 - val_mse: 47.4016\n",
            "Epoch 43/1000\n",
            "31/31 - 0s - loss: 43.2817 - mse: 43.2817 - val_loss: 46.5125 - val_mse: 46.5125\n",
            "Epoch 44/1000\n",
            "31/31 - 0s - loss: 42.6573 - mse: 42.6573 - val_loss: 46.0558 - val_mse: 46.0558\n",
            "Epoch 45/1000\n",
            "31/31 - 0s - loss: 41.0672 - mse: 41.0672 - val_loss: 46.0163 - val_mse: 46.0163\n",
            "Epoch 46/1000\n",
            "31/31 - 0s - loss: 43.3533 - mse: 43.3533 - val_loss: 45.8944 - val_mse: 45.8944\n",
            "Epoch 47/1000\n",
            "31/31 - 0s - loss: 42.7007 - mse: 42.7007 - val_loss: 45.8999 - val_mse: 45.8999\n",
            "Epoch 48/1000\n",
            "31/31 - 0s - loss: 41.6130 - mse: 41.6130 - val_loss: 45.9885 - val_mse: 45.9885\n",
            "Epoch 49/1000\n",
            "31/31 - 0s - loss: 40.3471 - mse: 40.3471 - val_loss: 45.8642 - val_mse: 45.8642\n",
            "Epoch 50/1000\n",
            "31/31 - 0s - loss: 41.9477 - mse: 41.9477 - val_loss: 45.8248 - val_mse: 45.8248\n",
            "Epoch 51/1000\n",
            "31/31 - 0s - loss: 41.5429 - mse: 41.5429 - val_loss: 45.8337 - val_mse: 45.8337\n",
            "Epoch 52/1000\n",
            "31/31 - 0s - loss: 41.3140 - mse: 41.3140 - val_loss: 45.8251 - val_mse: 45.8251\n",
            "Epoch 53/1000\n",
            "31/31 - 0s - loss: 43.1947 - mse: 43.1947 - val_loss: 45.6858 - val_mse: 45.6858\n",
            "Epoch 54/1000\n",
            "31/31 - 0s - loss: 43.3475 - mse: 43.3475 - val_loss: 45.7625 - val_mse: 45.7625\n",
            "Epoch 55/1000\n",
            "31/31 - 0s - loss: 44.0939 - mse: 44.0939 - val_loss: 45.8935 - val_mse: 45.8935\n",
            "Epoch 56/1000\n",
            "31/31 - 0s - loss: 43.9657 - mse: 43.9657 - val_loss: 45.8606 - val_mse: 45.8606\n",
            "Epoch 57/1000\n",
            "31/31 - 0s - loss: 41.0084 - mse: 41.0084 - val_loss: 45.8400 - val_mse: 45.8400\n",
            "Epoch 58/1000\n",
            "\n",
            "Epoch 00058: ReduceLROnPlateau reducing learning rate to 9.999999019782991e-06.\n",
            "31/31 - 0s - loss: 42.8870 - mse: 42.8870 - val_loss: 45.8026 - val_mse: 45.8026\n",
            "Epoch 59/1000\n",
            "31/31 - 0s - loss: 41.7791 - mse: 41.7791 - val_loss: 45.8153 - val_mse: 45.8153\n",
            "Epoch 60/1000\n",
            "31/31 - 0s - loss: 43.3675 - mse: 43.3675 - val_loss: 45.8095 - val_mse: 45.8095\n",
            "Epoch 61/1000\n",
            "31/31 - 0s - loss: 45.2583 - mse: 45.2583 - val_loss: 45.7915 - val_mse: 45.7915\n",
            "Epoch 62/1000\n",
            "31/31 - 0s - loss: 41.6439 - mse: 41.6439 - val_loss: 45.8020 - val_mse: 45.8020\n",
            "Epoch 63/1000\n",
            "\n",
            "Epoch 00063: ReduceLROnPlateau reducing learning rate to 9.99999883788405e-07.\n",
            "31/31 - 0s - loss: 41.7577 - mse: 41.7577 - val_loss: 45.8196 - val_mse: 45.8196\n",
            "Epoch 00063: early stopping\n",
            "0.6712031662537636\n"
          ],
          "name": "stdout"
        }
      ]
    },
    {
      "cell_type": "markdown",
      "metadata": {
        "id": "ihnK93zd1N5e"
      },
      "source": [
        "### Fit model\n",
        "Test overfitted loss"
      ]
    },
    {
      "cell_type": "code",
      "metadata": {
        "id": "xbIDRTZO1LQg"
      },
      "source": [
        "model.fit(np.asarray(x_train), np.asarray(y_train), epochs=1000, verbose=2, callbacks=callbacks_list, validation_split=0.2)\n",
        "y_pred = model.predict(x_train)\n",
        "print(r2_score(y_train,y_pred))"
      ],
      "execution_count": null,
      "outputs": []
    },
    {
      "cell_type": "markdown",
      "metadata": {
        "id": "8UR5Z51o1WVp"
      },
      "source": [
        "## Write to file"
      ]
    },
    {
      "cell_type": "code",
      "metadata": {
        "id": "oM2tsSLqsqs2"
      },
      "source": [
        "y_pred=model.predict(x_test)\n",
        "df = pd.DataFrame(y_pred)\n",
        "df.to_csv('keras',header = ['y'], index_label = 'id')"
      ],
      "execution_count": 69,
      "outputs": []
    }
  ]
}