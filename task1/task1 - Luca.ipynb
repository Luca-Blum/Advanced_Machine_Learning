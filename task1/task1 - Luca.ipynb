{
  "nbformat": 4,
  "nbformat_minor": 0,
  "metadata": {
    "colab": {
      "name": "task1.ipynb",
      "provenance": [],
      "mount_file_id": "https://github.com/lblum95/AML/blob/master/task1/task1%20-%20Luca.ipynb",
      "authorship_tag": "ABX9TyMHvzfLlKMj8Hn3x+dF/EjQ",
      "include_colab_link": true
    },
    "kernelspec": {
      "name": "python3",
      "display_name": "Python 3"
    }
  },
  "cells": [
    {
      "cell_type": "markdown",
      "metadata": {
        "id": "view-in-github",
        "colab_type": "text"
      },
      "source": [
        "<a href=\"https://colab.research.google.com/github/lblum95/AML/blob/master/task1/task1%20-%20Luca.ipynb\" target=\"_parent\"><img src=\"https://colab.research.google.com/assets/colab-badge.svg\" alt=\"Open In Colab\"/></a>"
      ]
    },
    {
      "cell_type": "code",
      "metadata": {
        "id": "QHFWrWVCdcUO",
        "outputId": "1988af39-cf0c-499b-8191-0e35aae2274b",
        "colab": {
          "base_uri": "https://localhost:8080/",
          "height": 1000
        }
      },
      "source": [
        "import pandas as pd\n",
        "\n",
        "x_train = pd.read_csv(\"data/X_train.csv\",index_col=0,header = 0)\n",
        "y_train = pd.read_csv(\"data/y_train.csv\",index_col=0,header = 0)\n",
        "x_test = pd.read_csv(\"data/X_test.csv\",index_col=0,header = 0)\n",
        "\n",
        "#count #NaN's in every row\n",
        "print(\"NaN's in rows of x_train:\")\n",
        "print(x_train.isna().sum(axis=1).sort_values(ascending=True))\n",
        "\n",
        "#count #NaN's in every col\n",
        "print(\"NaN's in columns of x_train:\")\n",
        "print(x_train.isna().sum(axis=0).sort_values(ascending=True))\n",
        "\n",
        "#count #NaN's in every row\n",
        "print(\"NaN's in y_train:\")\n",
        "print(y_train.isna().sum(axis=1).sort_values(ascending=True))\n",
        "\n",
        "#count #NaN's in every row\n",
        "print(\"NaN's in rows of x_test:\")\n",
        "print(x_test.isna().sum(axis=1).sort_values(ascending=True))\n",
        "\n",
        "#count #NaN's in every col\n",
        "print(\"NaN's in columns of x_test:\")\n",
        "print(x_test.isna().sum(axis=0).sort_values(ascending=True))\n",
        "\n",
        "\n",
        "\n",
        "\n",
        "\n",
        "\n",
        "\n",
        "\n",
        "\n",
        "\n",
        "\n"
      ],
      "execution_count": 5,
      "outputs": [
        {
          "output_type": "stream",
          "text": [
            "NaN's in rows of x_train:\n",
            "id\n",
            "1118.0    41\n",
            "514.0     42\n",
            "753.0     42\n",
            "429.0     42\n",
            "998.0     43\n",
            "          ..\n",
            "1172.0    83\n",
            "825.0     84\n",
            "1127.0    84\n",
            "929.0     86\n",
            "725.0     88\n",
            "Length: 1212, dtype: int64\n",
            "NaN's in columns of x_train:\n",
            "x522     65\n",
            "x694     67\n",
            "x638     67\n",
            "x16      67\n",
            "x673     69\n",
            "       ... \n",
            "x90     121\n",
            "x669    122\n",
            "x701    124\n",
            "x546    124\n",
            "x208    125\n",
            "Length: 832, dtype: int64\n",
            "NaN's in y_train:\n",
            "id\n",
            "0.0       0\n",
            "811.0     0\n",
            "810.0     0\n",
            "809.0     0\n",
            "808.0     0\n",
            "         ..\n",
            "401.0     0\n",
            "400.0     0\n",
            "399.0     0\n",
            "397.0     0\n",
            "1211.0    0\n",
            "Length: 1212, dtype: int64\n",
            "NaN's in rows of x_test:\n",
            "id\n",
            "559.0    30\n",
            "640.0    32\n",
            "35.0     32\n",
            "393.0    34\n",
            "107.0    34\n",
            "         ..\n",
            "72.0     71\n",
            "633.0    71\n",
            "449.0    73\n",
            "170.0    73\n",
            "508.0    79\n",
            "Length: 776, dtype: int64\n",
            "NaN's in columns of x_test:\n",
            "x804    26\n",
            "x267    28\n",
            "x159    31\n",
            "x643    32\n",
            "x520    32\n",
            "        ..\n",
            "x42     67\n",
            "x366    68\n",
            "x727    69\n",
            "x22     70\n",
            "x525    72\n",
            "Length: 832, dtype: int64\n"
          ],
          "name": "stdout"
        }
      ]
    }
  ]
}