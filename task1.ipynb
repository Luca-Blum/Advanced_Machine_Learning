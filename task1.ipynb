{
  "nbformat": 4,
  "nbformat_minor": 0,
  "metadata": {
    "colab": {
      "name": "Kopie von Kopie von task1.ipynb",
      "provenance": [],
      "include_colab_link": true
    },
    "kernelspec": {
      "name": "python3",
      "display_name": "Python 3"
    }
  },
  "cells": [
    {
      "cell_type": "markdown",
      "metadata": {
        "id": "view-in-github",
        "colab_type": "text"
      },
      "source": [
        "<a href=\"https://colab.research.google.com/github/lblum95/AML/blob/master/task1.ipynb\" target=\"_parent\"><img src=\"https://colab.research.google.com/assets/colab-badge.svg\" alt=\"Open In Colab\"/></a>"
      ]
    },
    {
      "cell_type": "markdown",
      "metadata": {
        "id": "gbXB74Yo46P1"
      },
      "source": [
        "# AML first project"
      ]
    },
    {
      "cell_type": "markdown",
      "metadata": {
        "id": "uo_5XT094_rK"
      },
      "source": [
        "## Data ingestion"
      ]
    },
    {
      "cell_type": "markdown",
      "metadata": {
        "id": "nPW_K3biymfg"
      },
      "source": [
        "### Connect to drive"
      ]
    },
    {
      "cell_type": "code",
      "metadata": {
        "id": "QHFWrWVCdcUO",
        "outputId": "69cdd2cf-8a97-4ff6-8ad4-e1b3a577e626",
        "colab": {
          "base_uri": "https://localhost:8080/",
          "height": 35
        }
      },
      "source": [
        "from google.colab import drive\n",
        "drive.mount('/content/drive')\n",
        "import os\n",
        "os.chdir('/content/drive/My Drive')"
      ],
      "execution_count": 10,
      "outputs": [
        {
          "output_type": "stream",
          "text": [
            "Drive already mounted at /content/drive; to attempt to forcibly remount, call drive.mount(\"/content/drive\", force_remount=True).\n"
          ],
          "name": "stdout"
        }
      ]
    },
    {
      "cell_type": "markdown",
      "metadata": {
        "id": "87COONMgy0C-"
      },
      "source": [
        "### Import all data libraries"
      ]
    },
    {
      "cell_type": "code",
      "metadata": {
        "id": "hmTNR51VyuFw"
      },
      "source": [
        "import pandas as pd\n",
        "from pandas_profiling import ProfileReport\n",
        "import numpy as np"
      ],
      "execution_count": 11,
      "outputs": []
    },
    {
      "cell_type": "markdown",
      "metadata": {
        "id": "NKl0bivD2hb-"
      },
      "source": [
        "### Import data"
      ]
    },
    {
      "cell_type": "code",
      "metadata": {
        "id": "auO5NH0VzvUO"
      },
      "source": [
        "x_train = pd.read_csv(\"data/X_train.csv\",index_col=0,header = 0)\n",
        "y_train = pd.read_csv(\"data/y_train.csv\",index_col=0,header = 0)\n",
        "x_test = pd.read_csv(\"data/X_test.csv\",index_col=0,header = 0)"
      ],
      "execution_count": 12,
      "outputs": []
    },
    {
      "cell_type": "markdown",
      "metadata": {
        "id": "VdQBM84p4suD"
      },
      "source": [
        "### Data cleaning\n"
      ]
    },
    {
      "cell_type": "markdown",
      "metadata": {
        "id": "Ng7riTBmL1yk"
      },
      "source": [
        "Outlier clipping\n",
        "\n",
        "quantile ignores nans :)"
      ]
    },
    {
      "cell_type": "code",
      "metadata": {
        "id": "ESNfLtNT4rto",
        "outputId": "72ca815d-b48b-457c-850c-0f642c655a2f",
        "colab": {
          "base_uri": "https://localhost:8080/",
          "height": 90
        }
      },
      "source": [
        "percentile=0.05\n",
        "#quantile ignores nans :)\n",
        "print(x_train.shape)\n",
        "lower=x_train.quantile(percentile, axis=0, interpolation='lower')\n",
        "higher=x_train.quantile(1-percentile, axis=0, interpolation='higher')\n",
        "print(lower.shape)\n",
        "print(higher.shape)\n",
        "train=x_train.clip(lower,higher,axis=1)\n",
        "print(train.shape)"
      ],
      "execution_count": 13,
      "outputs": [
        {
          "output_type": "stream",
          "text": [
            "(1212, 832)\n",
            "(832,)\n",
            "(832,)\n",
            "(1212, 832)\n"
          ],
          "name": "stdout"
        }
      ]
    },
    {
      "cell_type": "markdown",
      "metadata": {
        "id": "KoXtlzVwL76k"
      },
      "source": [
        "\n",
        "\n",
        "Fill mean in NaNs"
      ]
    },
    {
      "cell_type": "code",
      "metadata": {
        "id": "QJWOJ9eY7-db"
      },
      "source": [
        "#fill NaNs with mean\n",
        "train=train.apply(lambda x: x.fillna(x.mean()),axis=0)"
      ],
      "execution_count": 14,
      "outputs": []
    },
    {
      "cell_type": "markdown",
      "metadata": {
        "id": "Ws3tOQqS7Zyj"
      },
      "source": [
        "Normalize data"
      ]
    },
    {
      "cell_type": "code",
      "metadata": {
        "id": "tjNqb3oV7bfn",
        "outputId": "9054ee2e-1022-4540-9265-e7f2f1ce0848",
        "colab": {
          "base_uri": "https://localhost:8080/",
          "height": 256
        }
      },
      "source": [
        "from sklearn import preprocessing\n",
        "scaler = preprocessing.StandardScaler().fit(train)\n",
        "test=scaler.transform(train)\n",
        "test"
      ],
      "execution_count": 15,
      "outputs": [
        {
          "output_type": "execute_result",
          "data": {
            "text/plain": [
              "array([[ 1.03395957e+00, -1.72388823e+00,  6.95963777e-01, ...,\n",
              "        -5.24358916e-01, -1.71844251e+00, -7.03238121e-01],\n",
              "       [ 1.77519194e+00,  1.45780409e+00,  3.96418573e-10, ...,\n",
              "        -1.62112772e+00, -4.88124515e-01,  9.97882048e-02],\n",
              "       [ 1.22526942e+00,  1.39000401e+00, -4.38707639e-01, ...,\n",
              "        -1.13899489e+00, -1.83947835e+00, -2.81512241e-01],\n",
              "       ...,\n",
              "       [-9.04759519e-01, -1.63401639e+00,  3.23005914e-02, ...,\n",
              "        -1.59444405e+00,  1.81870577e+00,  1.30501687e-01],\n",
              "       [-1.05993919e-14, -1.22064009e+00,  1.42144559e+00, ...,\n",
              "        -8.71659095e-02,  5.86512874e-01, -1.68631832e+00],\n",
              "       [-1.13927439e+00, -6.58484639e-01,  2.53751452e-01, ...,\n",
              "        -7.64400524e-01, -1.72872580e-14, -1.76454689e-01]])"
            ]
          },
          "metadata": {
            "tags": []
          },
          "execution_count": 15
        }
      ]
    },
    {
      "cell_type": "markdown",
      "metadata": {
        "id": "H5SCbGMPuGyc"
      },
      "source": [
        "## Feature selection"
      ]
    },
    {
      "cell_type": "markdown",
      "metadata": {
        "id": "eUk5aTqxuMaV"
      },
      "source": [
        "### import all libraries"
      ]
    },
    {
      "cell_type": "code",
      "metadata": {
        "id": "mUKU7jsojwwk"
      },
      "source": [
        "from sklearn.feature_selection import VarianceThreshold\n",
        "from sklearn.feature_selection import SelectKBest, f_regression\n",
        "from sklearn.feature_selection import RFECV\n",
        "from sklearn.svm import SVR\n",
        "from sklearn.tree import DecisionTreeRegressor\n",
        "from sklearn.metrics import r2_score\n",
        "from sklearn.model_selection import train_test_split\n",
        "import numpy as np"
      ],
      "execution_count": 16,
      "outputs": []
    },
    {
      "cell_type": "markdown",
      "metadata": {
        "id": "Mce_KpksxmUg"
      },
      "source": [
        "### Fiddle down to 200 features"
      ]
    },
    {
      "cell_type": "code",
      "metadata": {
        "id": "mpiRd9QKwyy9",
        "outputId": "5f1969a0-0f10-4fbe-aaa6-43275afc0a4f",
        "colab": {
          "base_uri": "https://localhost:8080/",
          "height": 182
        }
      },
      "source": [
        "kbest=SelectKBest(f_regression, k=200)\n",
        "train = kbest.fit_transform(test, np.ravel(y_train))\n",
        "print(train.shape)"
      ],
      "execution_count": 17,
      "outputs": [
        {
          "output_type": "stream",
          "text": [
            "(1212, 200)\n"
          ],
          "name": "stdout"
        },
        {
          "output_type": "stream",
          "text": [
            "/usr/local/lib/python3.6/dist-packages/sklearn/feature_selection/_univariate_selection.py:299: RuntimeWarning: invalid value encountered in true_divide\n",
            "  corr /= X_norms\n",
            "/usr/local/lib/python3.6/dist-packages/scipy/stats/_distn_infrastructure.py:903: RuntimeWarning: invalid value encountered in greater\n",
            "  return (a < x) & (x < b)\n",
            "/usr/local/lib/python3.6/dist-packages/scipy/stats/_distn_infrastructure.py:903: RuntimeWarning: invalid value encountered in less\n",
            "  return (a < x) & (x < b)\n",
            "/usr/local/lib/python3.6/dist-packages/scipy/stats/_distn_infrastructure.py:1912: RuntimeWarning: invalid value encountered in less_equal\n",
            "  cond2 = cond0 & (x <= _a)\n"
          ],
          "name": "stderr"
        }
      ]
    },
    {
      "cell_type": "markdown",
      "metadata": {
        "id": "acXMjGzX2Hcy"
      },
      "source": [
        "### RFECV with linear SVR "
      ]
    },
    {
      "cell_type": "code",
      "metadata": {
        "id": "KB5RrBgIx69p",
        "outputId": "6af9d689-5286-41dc-f96d-9af22de63b74",
        "colab": {
          "base_uri": "https://localhost:8080/",
          "height": 35
        }
      },
      "source": [
        "linear = SVR(kernel=\"linear\")\n",
        "rfe_linear = RFECV(linear, step=5, cv=5)\n",
        "train_linear = rfe_linear.fit_transform(train, np.ravel(y_train))\n",
        "print(train_linear.shape)"
      ],
      "execution_count": 25,
      "outputs": [
        {
          "output_type": "stream",
          "text": [
            "(1212, 40)\n"
          ],
          "name": "stdout"
        }
      ]
    },
    {
      "cell_type": "markdown",
      "metadata": {
        "id": "sC_BBszx1tOD"
      },
      "source": [
        "Test SVR"
      ]
    },
    {
      "cell_type": "code",
      "metadata": {
        "id": "lO4iXgyu09d0",
        "outputId": "476cdb6c-ff84-4e01-80d2-710bf2f73a50",
        "colab": {
          "base_uri": "https://localhost:8080/",
          "height": 35
        }
      },
      "source": [
        "train_x, val_x, train_y, val_y = train_test_split(train_linear, y_train, test_size=0.2, random_state=36)\n",
        "linear = SVR(kernel=\"linear\")\n",
        "clf = linear.fit(train_x, np.ravel(train_y))\n",
        "print(clf.score(val_x, np.ravel(val_y))) #already correct r2 metric :)"
      ],
      "execution_count": 26,
      "outputs": [
        {
          "output_type": "stream",
          "text": [
            "0.5074965285156073\n"
          ],
          "name": "stdout"
        }
      ]
    },
    {
      "cell_type": "code",
      "metadata": {
        "id": "pPTxZCkb9nk_",
        "outputId": "48440c55-be3d-4126-8073-20f3ecec1c81",
        "colab": {
          "base_uri": "https://localhost:8080/",
          "height": 35
        }
      },
      "source": [
        "tree = DecisionTreeRegressor(random_state=0)\n",
        "rfe_tree = RFECV(tree, step=5, cv=5)\n",
        "train_tree = rfe_tree.fit_transform(train, np.ravel(y_train))\n",
        "print(train_tree.shape)"
      ],
      "execution_count": 27,
      "outputs": [
        {
          "output_type": "stream",
          "text": [
            "(1212, 25)\n"
          ],
          "name": "stdout"
        }
      ]
    },
    {
      "cell_type": "code",
      "metadata": {
        "id": "-LH5Y2rvIRQU",
        "outputId": "e09aae7b-fceb-4ce7-9b2e-26884c7a7954",
        "colab": {
          "base_uri": "https://localhost:8080/",
          "height": 35
        }
      },
      "source": [
        "train_x, val_x, train_y, val_y = train_test_split(train_tree, y_train, test_size=0.2, random_state=36)\n",
        "tree = DecisionTreeRegressor(random_state=0)\n",
        "clf = tree.fit(train_x, np.ravel(train_y))\n",
        "print(clf.score(val_x, np.ravel(val_y))) #already correct r2 metric :)"
      ],
      "execution_count": 29,
      "outputs": [
        {
          "output_type": "stream",
          "text": [
            "0.18383500900706728\n"
          ],
          "name": "stdout"
        }
      ]
    },
    {
      "cell_type": "code",
      "metadata": {
        "id": "fj6EYMv216xS"
      },
      "source": [
        "from IPython.display import display, Markdown"
      ],
      "execution_count": 22,
      "outputs": []
    }
  ]
}