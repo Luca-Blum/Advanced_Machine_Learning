{
  "nbformat": 4,
  "nbformat_minor": 0,
  "metadata": {
    "colab": {
      "name": "Kopie von Kopie von task1.ipynb",
      "provenance": [],
      "include_colab_link": true
    },
    "kernelspec": {
      "name": "python3",
      "display_name": "Python 3"
    }
  },
  "cells": [
    {
      "cell_type": "markdown",
      "metadata": {
        "id": "view-in-github",
        "colab_type": "text"
      },
      "source": [
        "<a href=\"https://colab.research.google.com/github/lblum95/AML/blob/master/task1_Jannik.ipynb\" target=\"_parent\"><img src=\"https://colab.research.google.com/assets/colab-badge.svg\" alt=\"Open In Colab\"/></a>"
      ]
    },
    {
      "cell_type": "markdown",
      "metadata": {
        "id": "gbXB74Yo46P1"
      },
      "source": [
        "# AML first project"
      ]
    },
    {
      "cell_type": "markdown",
      "metadata": {
        "id": "uo_5XT094_rK"
      },
      "source": [
        "## Data ingestion"
      ]
    },
    {
      "cell_type": "markdown",
      "metadata": {
        "id": "nPW_K3biymfg"
      },
      "source": [
        "### Connect to drive"
      ]
    },
    {
      "cell_type": "code",
      "metadata": {
        "id": "QHFWrWVCdcUO",
        "outputId": "c1fa330b-bea3-426e-c729-fcc92fbb5e1f",
        "colab": {
          "base_uri": "https://localhost:8080/",
          "height": 35
        }
      },
      "source": [
        "from google.colab import drive\n",
        "drive.mount('/content/drive')\n",
        "import os\n",
        "os.chdir('/content/drive/My Drive')"
      ],
      "execution_count": 1,
      "outputs": [
        {
          "output_type": "stream",
          "text": [
            "Drive already mounted at /content/drive; to attempt to forcibly remount, call drive.mount(\"/content/drive\", force_remount=True).\n"
          ],
          "name": "stdout"
        }
      ]
    },
    {
      "cell_type": "markdown",
      "metadata": {
        "id": "87COONMgy0C-"
      },
      "source": [
        "### Import all data libraries"
      ]
    },
    {
      "cell_type": "code",
      "metadata": {
        "id": "hmTNR51VyuFw"
      },
      "source": [
        "import pandas as pd\n",
        "from pandas_profiling import ProfileReport\n",
        "from sklearn import preprocessing\n",
        "import numpy as np"
      ],
      "execution_count": 2,
      "outputs": []
    },
    {
      "cell_type": "markdown",
      "metadata": {
        "id": "NKl0bivD2hb-"
      },
      "source": [
        "### Import data"
      ]
    },
    {
      "cell_type": "code",
      "metadata": {
        "id": "auO5NH0VzvUO"
      },
      "source": [
        "x_train = pd.read_csv(\"data/X_train.csv\",index_col=0,header = 0)\n",
        "y_train = pd.read_csv(\"data/y_train.csv\",index_col=0,header = 0)\n",
        "x_test = pd.read_csv(\"data/X_test.csv\",index_col=0,header = 0)"
      ],
      "execution_count": 3,
      "outputs": []
    },
    {
      "cell_type": "markdown",
      "metadata": {
        "id": "VdQBM84p4suD"
      },
      "source": [
        "### Data cleaning\n"
      ]
    },
    {
      "cell_type": "markdown",
      "metadata": {
        "id": "Ng7riTBmL1yk"
      },
      "source": [
        "Outlier clipping\n",
        "\n",
        "quantile ignores nans :)"
      ]
    },
    {
      "cell_type": "code",
      "metadata": {
        "id": "ESNfLtNT4rto",
        "outputId": "afebe127-691b-4150-b0b9-b772e04a4207",
        "colab": {
          "base_uri": "https://localhost:8080/",
          "height": 35
        }
      },
      "source": [
        "percentile=0.05\n",
        "#quantile ignores nans :)\n",
        "print(x_train.shape)\n",
        "lower=x_train.quantile(percentile, axis=0, interpolation='lower')\n",
        "higher=x_train.quantile(1-percentile, axis=0, interpolation='higher')\n",
        "x_train=x_train.clip(lower,higher,axis=1)"
      ],
      "execution_count": 4,
      "outputs": [
        {
          "output_type": "stream",
          "text": [
            "(1212, 832)\n"
          ],
          "name": "stdout"
        }
      ]
    },
    {
      "cell_type": "markdown",
      "metadata": {
        "id": "KoXtlzVwL76k"
      },
      "source": [
        "\n",
        "\n",
        "Fill mean in NaNs"
      ]
    },
    {
      "cell_type": "code",
      "metadata": {
        "id": "QJWOJ9eY7-db"
      },
      "source": [
        "#fill NaNs with mean\n",
        "x_train=x_train.apply(lambda x: x.fillna(x.mean()),axis=0)\n",
        "#fill NaNs with mean\n",
        "x_test=x_test.apply(lambda x: x.fillna(x.mean()),axis=0)"
      ],
      "execution_count": 5,
      "outputs": []
    },
    {
      "cell_type": "markdown",
      "metadata": {
        "id": "Ws3tOQqS7Zyj"
      },
      "source": [
        "Normalize data"
      ]
    },
    {
      "cell_type": "code",
      "metadata": {
        "id": "tjNqb3oV7bfn"
      },
      "source": [
        "scaler = preprocessing.StandardScaler().fit(x_train)\n",
        "x_train=scaler.transform(x_train)\n",
        "x_test=scaler.transform(x_test)"
      ],
      "execution_count": 6,
      "outputs": []
    },
    {
      "cell_type": "markdown",
      "metadata": {
        "id": "H5SCbGMPuGyc"
      },
      "source": [
        "## Feature selection"
      ]
    },
    {
      "cell_type": "markdown",
      "metadata": {
        "id": "eUk5aTqxuMaV"
      },
      "source": [
        "### import all libraries"
      ]
    },
    {
      "cell_type": "code",
      "metadata": {
        "id": "mUKU7jsojwwk"
      },
      "source": [
        "from sklearn.feature_selection import VarianceThreshold\n",
        "from sklearn.feature_selection import SelectKBest, f_regression\n",
        "from sklearn.feature_selection import RFECV\n",
        "from sklearn.svm import SVR\n",
        "from sklearn.tree import DecisionTreeRegressor\n",
        "from sklearn.metrics import r2_score\n",
        "from sklearn.model_selection import train_test_split"
      ],
      "execution_count": 7,
      "outputs": []
    },
    {
      "cell_type": "markdown",
      "metadata": {
        "id": "Mce_KpksxmUg"
      },
      "source": [
        "### Fiddle down to 200 features"
      ]
    },
    {
      "cell_type": "code",
      "metadata": {
        "id": "mpiRd9QKwyy9",
        "outputId": "5604ab90-ded5-4877-dd32-76476e37b7aa",
        "colab": {
          "base_uri": "https://localhost:8080/",
          "height": 182
        }
      },
      "source": [
        "kbest=SelectKBest(f_regression, k=200)\n",
        "x_train = kbest.fit_transform(x_train, np.ravel(y_train))\n",
        "print(x_train.shape)"
      ],
      "execution_count": 8,
      "outputs": [
        {
          "output_type": "stream",
          "text": [
            "(1212, 200)\n"
          ],
          "name": "stdout"
        },
        {
          "output_type": "stream",
          "text": [
            "/usr/local/lib/python3.6/dist-packages/sklearn/feature_selection/_univariate_selection.py:299: RuntimeWarning: invalid value encountered in true_divide\n",
            "  corr /= X_norms\n",
            "/usr/local/lib/python3.6/dist-packages/scipy/stats/_distn_infrastructure.py:903: RuntimeWarning: invalid value encountered in greater\n",
            "  return (a < x) & (x < b)\n",
            "/usr/local/lib/python3.6/dist-packages/scipy/stats/_distn_infrastructure.py:903: RuntimeWarning: invalid value encountered in less\n",
            "  return (a < x) & (x < b)\n",
            "/usr/local/lib/python3.6/dist-packages/scipy/stats/_distn_infrastructure.py:1912: RuntimeWarning: invalid value encountered in less_equal\n",
            "  cond2 = cond0 & (x <= _a)\n"
          ],
          "name": "stderr"
        }
      ]
    },
    {
      "cell_type": "markdown",
      "metadata": {
        "id": "acXMjGzX2Hcy"
      },
      "source": [
        "### RFECV with linear SVR "
      ]
    },
    {
      "cell_type": "code",
      "metadata": {
        "id": "KB5RrBgIx69p",
        "outputId": "511c11f7-6438-4902-c6d7-ba5b5ac0dfa2",
        "colab": {
          "base_uri": "https://localhost:8080/",
          "height": 35
        }
      },
      "source": [
        "linear = SVR(kernel=\"linear\")\n",
        "rfe_linear = RFECV(linear, step=5, cv=5)\n",
        "train_linear = rfe_linear.fit_transform(x_train, np.ravel(y_train))\n",
        "print(train_linear.shape)"
      ],
      "execution_count": 9,
      "outputs": [
        {
          "output_type": "stream",
          "text": [
            "(1212, 40)\n"
          ],
          "name": "stdout"
        }
      ]
    },
    {
      "cell_type": "markdown",
      "metadata": {
        "id": "sC_BBszx1tOD"
      },
      "source": [
        "Test SVR"
      ]
    },
    {
      "cell_type": "code",
      "metadata": {
        "id": "lO4iXgyu09d0",
        "outputId": "30725b6d-50bf-4fb0-bfff-1a3eb13f587d",
        "colab": {
          "base_uri": "https://localhost:8080/",
          "height": 35
        }
      },
      "source": [
        "train_x, val_x, train_y, val_y = train_test_split(train_linear, y_train, test_size=0.2, random_state=36)\n",
        "linear = SVR(kernel=\"linear\")\n",
        "clf = linear.fit(train_x, np.ravel(train_y))\n",
        "print(clf.score(val_x, np.ravel(val_y))) #already correct r2 metric :)"
      ],
      "execution_count": 10,
      "outputs": [
        {
          "output_type": "stream",
          "text": [
            "0.5074965285156073\n"
          ],
          "name": "stdout"
        }
      ]
    },
    {
      "cell_type": "code",
      "metadata": {
        "id": "AYiAkADe6HWC",
        "outputId": "9a62cae1-a3fe-46e3-f06e-d1673461b9b1",
        "colab": {
          "base_uri": "https://localhost:8080/",
          "height": 209
        }
      },
      "source": [
        "test_linear=kbest.transform(x_test)\n",
        "test_linear=rfe_linear.transform(test_linear)\n",
        "y_test=clf.predict(test_linear)\n",
        "#Write predictions\n",
        "df = pd.DataFrame(y_test)\n",
        "df.to_csv('data/Linear_Jannik.csv',header = ['y'], index_label = 'id')"
      ],
      "execution_count": 11,
      "outputs": [
        {
          "output_type": "error",
          "ename": "AttributeError",
          "evalue": "ignored",
          "traceback": [
            "\u001b[0;31m---------------------------------------------------------------------------\u001b[0m",
            "\u001b[0;31mAttributeError\u001b[0m                            Traceback (most recent call last)",
            "\u001b[0;32m<ipython-input-11-16b658890163>\u001b[0m in \u001b[0;36m<module>\u001b[0;34m()\u001b[0m\n\u001b[1;32m      2\u001b[0m \u001b[0mtest_linear\u001b[0m\u001b[0;34m=\u001b[0m\u001b[0mrfe_linear\u001b[0m\u001b[0;34m.\u001b[0m\u001b[0mtransform\u001b[0m\u001b[0;34m(\u001b[0m\u001b[0mtest_linear\u001b[0m\u001b[0;34m)\u001b[0m\u001b[0;34m\u001b[0m\u001b[0;34m\u001b[0m\u001b[0m\n\u001b[1;32m      3\u001b[0m \u001b[0my_test\u001b[0m\u001b[0;34m=\u001b[0m\u001b[0mclf\u001b[0m\u001b[0;34m.\u001b[0m\u001b[0mpredict\u001b[0m\u001b[0;34m(\u001b[0m\u001b[0mtest_linear\u001b[0m\u001b[0;34m)\u001b[0m\u001b[0;34m\u001b[0m\u001b[0;34m\u001b[0m\u001b[0m\n\u001b[0;32m----> 4\u001b[0;31m \u001b[0my_test\u001b[0m\u001b[0;34m.\u001b[0m\u001b[0mto_csv\u001b[0m\u001b[0;34m(\u001b[0m\u001b[0;34m'Linear_Jannik.csv'\u001b[0m\u001b[0;34m,\u001b[0m\u001b[0mheader\u001b[0m \u001b[0;34m=\u001b[0m \u001b[0;34m[\u001b[0m\u001b[0;34m'y'\u001b[0m\u001b[0;34m]\u001b[0m\u001b[0;34m,\u001b[0m \u001b[0mindex_label\u001b[0m \u001b[0;34m=\u001b[0m \u001b[0;34m'id'\u001b[0m\u001b[0;34m)\u001b[0m\u001b[0;34m\u001b[0m\u001b[0;34m\u001b[0m\u001b[0m\n\u001b[0m",
            "\u001b[0;31mAttributeError\u001b[0m: 'numpy.ndarray' object has no attribute 'to_csv'"
          ]
        }
      ]
    },
    {
      "cell_type": "code",
      "metadata": {
        "id": "pPTxZCkb9nk_",
        "outputId": "83fa2bb1-09d5-423c-8e5b-7b7f0010943c",
        "colab": {
          "base_uri": "https://localhost:8080/",
          "height": 35
        }
      },
      "source": [
        "tree = DecisionTreeRegressor(random_state=0)\n",
        "rfe_tree = RFECV(tree, step=5, cv=5)\n",
        "train_tree = rfe_tree.fit_transform(x_train, np.ravel(y_train))\n",
        "print(train_tree.shape)"
      ],
      "execution_count": 16,
      "outputs": [
        {
          "output_type": "stream",
          "text": [
            "(1212, 25)\n"
          ],
          "name": "stdout"
        }
      ]
    },
    {
      "cell_type": "code",
      "metadata": {
        "id": "-LH5Y2rvIRQU",
        "outputId": "cff3ba42-f175-4106-bd6d-0ac77f18d27c",
        "colab": {
          "base_uri": "https://localhost:8080/",
          "height": 35
        }
      },
      "source": [
        "train_x, val_x, train_y, val_y = train_test_split(train_tree, y_train, test_size=0.2, random_state=36)\n",
        "tree = DecisionTreeRegressor(random_state=0)\n",
        "clf = tree.fit(train_x, np.ravel(train_y))\n",
        "print(clf.score(val_x, np.ravel(val_y))) #already correct r2 metric :)"
      ],
      "execution_count": 17,
      "outputs": [
        {
          "output_type": "stream",
          "text": [
            "0.18383500900706728\n"
          ],
          "name": "stdout"
        }
      ]
    },
    {
      "cell_type": "code",
      "metadata": {
        "id": "9BZj3UBt7pmn"
      },
      "source": [
        "test_tree=kbest.transform(x_test)\n",
        "test_tree=rfe_tree.transform(test_tree)\n",
        "y_test=clf.predict(test_tree)\n",
        "df = pd.DataFrame(y_test)\n",
        "df.to_csv('data/Tree_Jannik.csv',header = ['y'], index_label = 'id')"
      ],
      "execution_count": 18,
      "outputs": []
    }
  ]
}