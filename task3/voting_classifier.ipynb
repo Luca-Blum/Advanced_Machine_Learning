{
  "nbformat": 4,
  "nbformat_minor": 0,
  "metadata": {
    "colab": {
      "name": "Untitled11.ipynb",
      "provenance": [],
      "collapsed_sections": [],
      "authorship_tag": "ABX9TyOmk5lGPNjstDs4Xn+Xjfpq",
      "include_colab_link": true
    },
    "kernelspec": {
      "name": "python3",
      "display_name": "Python 3"
    }
  },
  "cells": [
    {
      "cell_type": "markdown",
      "metadata": {
        "id": "view-in-github",
        "colab_type": "text"
      },
      "source": [
        "<a href=\"https://colab.research.google.com/github/lblum95/AML/blob/master/task3/voting_classifier.ipynb\" target=\"_parent\"><img src=\"https://colab.research.google.com/assets/colab-badge.svg\" alt=\"Open In Colab\"/></a>"
      ]
    },
    {
      "cell_type": "code",
      "metadata": {
        "colab": {
          "base_uri": "https://localhost:8080/"
        },
        "id": "Lu-mBOOmt8IY",
        "outputId": "62ad7ae8-b312-4411-95b1-2014a6fab998"
      },
      "source": [
        "from google.colab import drive\n",
        "drive.mount('/content/drive')\n",
        "import os\n",
        "os.chdir('/content/drive/My Drive')"
      ],
      "execution_count": 1,
      "outputs": [
        {
          "output_type": "stream",
          "text": [
            "Drive already mounted at /content/drive; to attempt to forcibly remount, call drive.mount(\"/content/drive\", force_remount=True).\n"
          ],
          "name": "stdout"
        }
      ]
    },
    {
      "cell_type": "code",
      "metadata": {
        "id": "4YIvjO3No6SL"
      },
      "source": [
        "import pandas as pd\n",
        "import numpy as np\n",
        "from sklearn.experimental import enable_hist_gradient_boosting\n",
        "from sklearn.ensemble import  HistGradientBoostingClassifier, RandomForestClassifier, VotingClassifier, BaggingClassifier\n",
        "from sklearn.impute import SimpleImputer\n",
        "from sklearn.model_selection import StratifiedKFold\n",
        "from sklearn.preprocessing import StandardScaler\n",
        "from sklearn.svm import SVC\n",
        "from sklearn.metrics import f1_score\n",
        "import matplotlib.pyplot as plt\n",
        "from sklearn.metrics import confusion_matrix"
      ],
      "execution_count": 2,
      "outputs": []
    },
    {
      "cell_type": "code",
      "metadata": {
        "id": "1pvnxmBrt7gd"
      },
      "source": [
        "x_train = pd.read_csv(\"data/X_train_features.csv\", index_col=0, header=0, low_memory=False)\n",
        "y_train = pd.read_csv(\"data/y_train.csv\", index_col=0, header=0)\n",
        "x_test = pd.read_csv(\"data/X_test_features.csv\", index_col=0, header=0, low_memory=False)\n",
        "\n",
        "normal_features=x_train.iloc[:,0:x_train.columns.get_loc(\"J_L/H\")]\n",
        "tescht=x_test.iloc[:,0:x_test.columns.get_loc(\"J_L/H\")]\n",
        "imputer=SimpleImputer(strategy='median')\n",
        "\n",
        "scaler = StandardScaler()\n",
        "norm=normal_features.drop(['HRV_ULF','HRV_VLF','HRV_LF','HRV_LFHF','HRV_LFn'], axis=1)\n",
        "tescht=tescht.drop(['HRV_ULF','HRV_VLF','HRV_LF','HRV_LFHF','HRV_LFn'], axis=1)\n",
        "norm=norm.replace(np.inf, 10)\n",
        "tescht=tescht.replace(np.inf, 10)\n",
        "norm=norm.replace(-np.inf, -10)\n",
        "tescht=tescht.replace(-np.inf, -10)\n",
        "norm['y']=y_train\n",
        "y_tr=norm['y']\n",
        "selected=norm.drop(['y'], axis=1)\n",
        "#selected=imputer.fit_transform(norm)"
      ],
      "execution_count": 26,
      "outputs": []
    },
    {
      "cell_type": "code",
      "metadata": {
        "colab": {
          "base_uri": "https://localhost:8080/"
        },
        "id": "vkAmaCtse03H",
        "outputId": "2c28a6e6-8344-4e26-8c4d-785e13f1e6e2"
      },
      "source": [
        "from sklearn.pipeline import Pipeline\n",
        "def get_model():\n",
        "  estimators = [('l2', HistGradientBoostingClassifier(l2_regularization=3, max_leaf_nodes=None,max_depth=None)),\n",
        "                ('full_steam', HistGradientBoostingClassifier(max_leaf_nodes=None,max_depth=None, min_samples_leaf=10)),\n",
        "                ('20', HistGradientBoostingClassifier(max_depth=None, min_samples_leaf=20)),\n",
        "                ('rfc',Pipeline([('scaler', SimpleImputer(strategy ='median')),('svc', RandomForestClassifier(n_estimators=500,min_samples_leaf=2))])),\n",
        "                ('rf_feat',Pipeline([('scaler', SimpleImputer(strategy='median')), ('svc', RandomForestClassifier(n_estimators=100,min_samples_split=2))]))]\n",
        "  clf = VotingClassifier(estimators=estimators,voting='soft',flatten_transform=True,n_jobs=-1)\n",
        "  return clf\n",
        "skf1=StratifiedKFold(n_splits=5, shuffle=True, random_state=42)\n",
        "for train_index,test_index in skf1.split(selected,y_tr):\n",
        "  X_train = selected.iloc[train_index]\n",
        "  X_test = selected.iloc[test_index]\n",
        "  Y_train =y_tr[train_index]\n",
        "  Y_test = y_tr[test_index]\n",
        "  model=get_model()\n",
        "  model.fit(X_train,Y_train)\n",
        "  Y_pred=model.predict(X_test)\n",
        "  print(confusion_matrix(Y_test, Y_pred))\n",
        "  print('Score')\n",
        "  print(f1_score(Y_test, Y_pred, average='micro'))\n",
        "  print()\n",
        "  print()"
      ],
      "execution_count": 49,
      "outputs": [
        {
          "output_type": "stream",
          "text": [
            "[[568   2  34   2]\n",
            " [  8  61  19   1]\n",
            " [ 89   8 197   1]\n",
            " [ 11   4   4  15]]\n",
            "Score\n",
            "0.8212890625\n",
            "\n",
            "\n",
            "[[565   1  36   4]\n",
            " [  8  65  16   0]\n",
            " [ 85   9 197   4]\n",
            " [  7   0   6  21]]\n",
            "Score\n",
            "0.828125\n",
            "\n",
            "\n",
            "[[572   3  30   1]\n",
            " [  5  59  19   5]\n",
            " [ 83  10 199   3]\n",
            " [  7   0   4  23]]\n",
            "Score\n",
            "0.833822091886608\n",
            "\n",
            "\n",
            "[[575   1  29   1]\n",
            " [  1  67  20   0]\n",
            " [ 95  16 184   0]\n",
            " [ 17   1   1  15]]\n",
            "Score\n",
            "0.8220918866080157\n",
            "\n",
            "\n",
            "[[558   2  40   6]\n",
            " [  5  67  16   1]\n",
            " [ 82  11 196   5]\n",
            " [ 13   0   4  17]]\n",
            "Score\n",
            "0.8191593352883676\n",
            "\n",
            "\n"
          ],
          "name": "stdout"
        }
      ]
    },
    {
      "cell_type": "code",
      "metadata": {
        "colab": {
          "base_uri": "https://localhost:8080/"
        },
        "id": "3-8DAcsmr1ty",
        "outputId": "e16d861d-841d-484b-cbe1-d4a157ebaf5c"
      },
      "source": [
        "def get_model():\n",
        "  estimators = [('l2', HistGradientBoostingClassifier(l2_regularization=3, max_leaf_nodes=None,max_depth=None,min_samples_leaf=10)),\n",
        "                ('full_steam', HistGradientBoostingClassifier(max_leaf_nodes=None,max_depth=None, min_samples_leaf=10)),\n",
        "                ('20', HistGradientBoostingClassifier(max_depth=None, min_samples_leaf=20)),\n",
        "                ('rfc',Pipeline([('scaler', SimpleImputer(strategy ='median')),('svc', RandomForestClassifier(n_estimators=500))])),\n",
        "                ('rf_feat',Pipeline([('scaler', SimpleImputer(strategy='median')), ('svc', RandomForestClassifier(n_estimators=100,min_samples_split=2))]))]\n",
        "  clf = VotingClassifier(estimators=estimators,voting='soft',flatten_transform=True,n_jobs=-1)\n",
        "  return clf\n",
        "skf1=StratifiedKFold(n_splits=5, shuffle=True, random_state=42)\n",
        "for train_index,test_index in skf1.split(selected,y_tr):\n",
        "  X_train = selected.iloc[train_index]\n",
        "  X_test = selected.iloc[test_index]\n",
        "  Y_train =y_tr[train_index]\n",
        "  Y_test = y_tr[test_index]\n",
        "  model=get_model()\n",
        "  model.fit(X_train,Y_train)\n",
        "  Y_pred=model.predict(X_test)\n",
        "  print(confusion_matrix(Y_test, Y_pred))\n",
        "  print('Score')\n",
        "  print(f1_score(Y_test, Y_pred, average='micro'))\n",
        "  print()\n",
        "  print()"
      ],
      "execution_count": 43,
      "outputs": [
        {
          "output_type": "stream",
          "text": [
            "[[567   3  34   2]\n",
            " [  7  61  20   1]\n",
            " [ 88   6 200   1]\n",
            " [ 10   4   4  16]]\n",
            "Score\n",
            "0.82421875\n",
            "\n",
            "\n",
            "[[566   1  34   5]\n",
            " [  8  63  18   0]\n",
            " [ 84   9 196   6]\n",
            " [  6   0   5  23]]\n",
            "Score\n",
            "0.828125\n",
            "\n",
            "\n",
            "[[573   3  29   1]\n",
            " [  5  59  19   5]\n",
            " [ 84  10 199   2]\n",
            " [  7   0   4  23]]\n",
            "Score\n",
            "0.8347996089931574\n",
            "\n",
            "\n",
            "[[573   0  32   1]\n",
            " [  2  66  20   0]\n",
            " [ 92  14 188   1]\n",
            " [ 17   1   1  15]]\n",
            "Score\n",
            "0.823069403714565\n",
            "\n",
            "\n",
            "[[556   2  42   6]\n",
            " [  5  67  16   1]\n",
            " [ 78  12 199   5]\n",
            " [ 13   0   3  18]]\n",
            "Score\n",
            "0.8211143695014664\n",
            "\n",
            "\n"
          ],
          "name": "stdout"
        }
      ]
    },
    {
      "cell_type": "code",
      "metadata": {
        "id": "OBuxfZS65Tvx"
      },
      "source": [
        "def get_model():\n",
        "  estimators = [('l2', HistGradientBoostingClassifier(l2_regularization=3, max_leaf_nodes=None,max_depth=None,min_samples_leaf=10)),\n",
        "                ('full_steam', HistGradientBoostingClassifier(max_leaf_nodes=None,max_depth=None, min_samples_leaf=10)),\n",
        "                ('20', HistGradientBoostingClassifier(max_depth=None, min_samples_leaf=20)),\n",
        "                ('rfc',Pipeline([('scaler', SimpleImputer(strategy ='median')),('svc', RandomForestClassifier(n_estimators=500))])),\n",
        "                ('rf_feat',Pipeline([('scaler', SimpleImputer(strategy='median')), ('svc', RandomForestClassifier(n_estimators=100,min_samples_split=2))]))]\n",
        "  clf = VotingClassifier(estimators=estimators,voting='soft',flatten_transform=True,n_jobs=-1)\n",
        "  return clf\n",
        "model = get_model()\n",
        "model.fit(selected,y_tr)\n",
        "y_tescht=model.predict(tescht)\n",
        "df = pd.DataFrame(y_tescht)\n",
        "df.to_csv('data/vote.csv', header=['y'], index_label='id')"
      ],
      "execution_count": 45,
      "outputs": []
    }
  ]
}