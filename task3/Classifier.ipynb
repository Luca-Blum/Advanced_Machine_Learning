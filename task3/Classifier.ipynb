{
  "nbformat": 4,
  "nbformat_minor": 0,
  "metadata": {
    "colab": {
      "name": "Untitled11.ipynb",
      "provenance": [],
      "collapsed_sections": [],
      "authorship_tag": "ABX9TyNckbgZA681Qcxr4DPQ1xWw",
      "include_colab_link": true
    },
    "kernelspec": {
      "name": "python3",
      "display_name": "Python 3"
    }
  },
  "cells": [
    {
      "cell_type": "markdown",
      "metadata": {
        "id": "view-in-github",
        "colab_type": "text"
      },
      "source": [
        "<a href=\"https://colab.research.google.com/github/lblum95/AML/blob/master/task3/Classifier.ipynb\" target=\"_parent\"><img src=\"https://colab.research.google.com/assets/colab-badge.svg\" alt=\"Open In Colab\"/></a>"
      ]
    },
    {
      "cell_type": "code",
      "metadata": {
        "colab": {
          "base_uri": "https://localhost:8080/"
        },
        "id": "Lu-mBOOmt8IY",
        "outputId": "bc168143-1729-4d0b-e846-2a81bcea5fee"
      },
      "source": [
        "from google.colab import drive\n",
        "drive.mount('/content/drive')\n",
        "import os\n",
        "os.chdir('/content/drive/My Drive')"
      ],
      "execution_count": 1,
      "outputs": [
        {
          "output_type": "stream",
          "text": [
            "Drive already mounted at /content/drive; to attempt to forcibly remount, call drive.mount(\"/content/drive\", force_remount=True).\n"
          ],
          "name": "stdout"
        }
      ]
    },
    {
      "cell_type": "code",
      "metadata": {
        "id": "4YIvjO3No6SL"
      },
      "source": [
        "import pandas as pd\n",
        "import numpy as np\n",
        "from sklearn.experimental import enable_hist_gradient_boosting\n",
        "from sklearn.ensemble import  HistGradientBoostingClassifier, RandomForestClassifier, VotingClassifier\n",
        "from sklearn.impute import SimpleImputer\n",
        "from sklearn.model_selection import StratifiedKFold\n",
        "from sklearn.preprocessing import StandardScaler\n",
        "from sklearn.svm import SVC\n",
        "from sklearn.metrics import f1_score\n",
        "import matplotlib.pyplot as plt\n",
        "from sklearn.metrics import confusion_matrix"
      ],
      "execution_count": 6,
      "outputs": []
    },
    {
      "cell_type": "code",
      "metadata": {
        "colab": {
          "base_uri": "https://localhost:8080/"
        },
        "id": "1pvnxmBrt7gd",
        "outputId": "c23fe732-0592-413f-e0cd-b773f4d06cbb"
      },
      "source": [
        "x_train = pd.read_csv(\"data/X_train_Jannik.csv\", index_col=0, header=0, low_memory=False)\n",
        "y_train = pd.read_csv(\"data/y_train.csv\", index_col=0, header=0)\n",
        "x_test = pd.read_csv(\"data/X_test_Jannik.csv\", index_col=0, header=0, low_memory=False)\n",
        "\n",
        "normal_features=x_train\n",
        "imputer=SimpleImputer(strategy='median')\n",
        "\n",
        "scaler = StandardScaler()\n",
        "norm=normal_features.drop(['HRV_ULF','HRV_VLF','HRV_LF','HRV_LFHF','HRV_LFn'], axis=1)\n",
        "norm=norm.replace(np.inf, 10)\n",
        "norm=norm.replace(-np.inf, -10)\n",
        "norm['y']=y_train\n",
        "y_tr=norm['y']\n",
        "norm=norm.drop(['y'], axis=1)\n",
        "print(norm.shape)\n",
        "selected=imputer.fit_transform(norm)"
      ],
      "execution_count": 4,
      "outputs": [
        {
          "output_type": "stream",
          "text": [
            "(5117, 93)\n"
          ],
          "name": "stdout"
        }
      ]
    },
    {
      "cell_type": "code",
      "metadata": {
        "colab": {
          "base_uri": "https://localhost:8080/"
        },
        "id": "vkAmaCtse03H",
        "outputId": "27d0fd7b-de08-4c6d-9124-6116912fe4d7"
      },
      "source": [
        "def get_model():\n",
        "  estimators = [('l2', HistGradientBoostingClassifier(l2_regularization=3, max_leaf_nodes=None,max_depth=None, min_samples_leaf=10)),('full_steam', HistGradientBoostingClassifier(max_leaf_nodes=None,max_depth=None, min_samples_leaf=10)),('20', HistGradientBoostingClassifier(max_leaf_nodes=None,max_depth=None, min_samples_leaf=20))]\n",
        "  clf = VotingClassifier(estimators=estimators,voting='soft',flatten_transform=True,n_jobs=-1)\n",
        "  return clf\n",
        "skf1=StratifiedKFold(n_splits=5, shuffle=True, random_state=36)\n",
        "for train_index,test_index in skf1.split(selected,y_tr):\n",
        "  X_train = selected[train_index]\n",
        "  X_test = selected[test_index]\n",
        "  Y_train =y_tr[train_index]\n",
        "  Y_test = y_tr[test_index]\n",
        "  model=get_model()\n",
        "  model.fit(X_train,Y_train)\n",
        "  Y_pred=model.predict(X_test)\n",
        "  print(confusion_matrix(Y_test, Y_pred))\n",
        "  print('Score')\n",
        "  print(f1_score(Y_test, Y_pred, average='micro'))\n",
        "  print()\n",
        "  print()"
      ],
      "execution_count": 7,
      "outputs": [
        {
          "output_type": "stream",
          "text": [
            "[[565   2  35   4]\n",
            " [  6  63  17   3]\n",
            " [ 83  10 199   3]\n",
            " [ 14   1   3  16]]\n",
            "Score\n",
            "0.8232421875\n",
            "\n",
            "\n",
            "[[557   2  45   2]\n",
            " [  5  67  17   0]\n",
            " [ 87   9 197   2]\n",
            " [ 13   0   1  20]]\n",
            "Score\n",
            "0.8212890625\n",
            "\n",
            "\n",
            "[[557   4  43   2]\n",
            " [  6  54  27   1]\n",
            " [ 93  10 189   3]\n",
            " [  8   3   4  19]]\n",
            "Score\n",
            "0.8005865102639296\n",
            "\n",
            "\n",
            "[[575   3  27   1]\n",
            " [  6  67  14   1]\n",
            " [ 94  11 186   4]\n",
            " [  9   1   5  19]]\n",
            "Score\n",
            "0.8279569892473119\n",
            "\n",
            "\n",
            "[[573   3  29   1]\n",
            " [  9  67  12   1]\n",
            " [ 99  14 173   8]\n",
            " [ 10   1   2  21]]\n",
            "Score\n",
            "0.8152492668621701\n",
            "\n",
            "\n"
          ],
          "name": "stdout"
        }
      ]
    },
    {
      "cell_type": "code",
      "metadata": {
        "id": "OBuxfZS65Tvx"
      },
      "source": [
        "tescht=x_test.drop(['HRV_ULF','HRV_VLF','HRV_LF','HRV_LFHF','HRV_LFn'], axis=1)\n",
        "tescht=tescht.replace(np.inf, 10)\n",
        "tescht=tescht.replace(-np.inf, -10)\n",
        "#maybe change further\n",
        "tescht=imputer.transform(tescht)\n",
        "tescht=scaler.transform(tescht)\n",
        "\n",
        "model = get_model()\n",
        "model.fit(selected,y_train)\n",
        "y_tescht=model.predict(tescht)\n",
        "df = pd.DataFrame(y_tescht)\n",
        "df.to_csv('data/fsg.csv', header=['y'], index_label='id')"
      ],
      "execution_count": null,
      "outputs": []
    }
  ]
}