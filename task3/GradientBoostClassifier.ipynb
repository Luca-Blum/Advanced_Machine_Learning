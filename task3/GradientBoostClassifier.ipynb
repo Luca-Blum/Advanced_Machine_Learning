{
  "nbformat": 4,
  "nbformat_minor": 0,
  "metadata": {
    "colab": {
      "name": "Feature_Selection.ipynb",
      "provenance": [],
      "collapsed_sections": [],
      "authorship_tag": "ABX9TyNTePGxW8PflZODxj0yaLqB",
      "include_colab_link": true
    },
    "kernelspec": {
      "name": "python3",
      "display_name": "Python 3"
    }
  },
  "cells": [
    {
      "cell_type": "markdown",
      "metadata": {
        "id": "view-in-github",
        "colab_type": "text"
      },
      "source": [
        "<a href=\"https://colab.research.google.com/github/lblum95/AML/blob/master/task3/Jannik_candidate.ipynb\" target=\"_parent\"><img src=\"https://colab.research.google.com/assets/colab-badge.svg\" alt=\"Open In Colab\"/></a>"
      ]
    },
    {
      "cell_type": "code",
      "metadata": {
        "colab": {
          "base_uri": "https://localhost:8080/"
        },
        "id": "q8tLkPSRRNX2",
        "outputId": "8b017e74-d326-41be-e751-b236cbb29fb5"
      },
      "source": [
        "from google.colab import drive\n",
        "drive.mount('/content/drive')\n",
        "import os\n",
        "os.chdir('/content/drive/My Drive')"
      ],
      "execution_count": null,
      "outputs": [
        {
          "output_type": "stream",
          "text": [
            "Drive already mounted at /content/drive; to attempt to forcibly remount, call drive.mount(\"/content/drive\", force_remount=True).\n"
          ],
          "name": "stdout"
        }
      ]
    },
    {
      "cell_type": "code",
      "metadata": {
        "id": "K-5BT54TRPwI"
      },
      "source": [
        "import pandas as pd\n",
        "import numpy as np\n",
        "from sklearn.experimental import enable_hist_gradient_boosting\n",
        "from sklearn.ensemble import  HistGradientBoostingClassifier, RandomForestClassifier, VotingClassifier, BaggingClassifier\n",
        "from sklearn.impute import SimpleImputer\n",
        "from sklearn.model_selection import StratifiedKFold\n",
        "from sklearn.feature_selection import SelectFromModel\n",
        "from sklearn.preprocessing import StandardScaler\n",
        "from sklearn.svm import SVC\n",
        "from sklearn.metrics import f1_score\n",
        "import matplotlib.pyplot as plt\n",
        "from sklearn.metrics import confusion_matrix\n",
        "from sklearn.pipeline import Pipeline\n",
        "from sklearn.multiclass import OneVsOneClassifier,OneVsRestClassifier"
      ],
      "execution_count": null,
      "outputs": []
    },
    {
      "cell_type": "code",
      "metadata": {
        "id": "SF7SvFnmRVvd"
      },
      "source": [
        "x_train = pd.read_csv(\"data/X_train_features.csv\", index_col=0, header=0, low_memory=False)\n",
        "x_train_yanick = pd.read_csv(\"data/X_train_features_yanick.csv\", index_col=0, header=0, low_memory=False)\n",
        "y_train = pd.read_csv(\"data/y_train.csv\", index_col=0, header=0)\n",
        "x_test = pd.read_csv(\"data/X_test_features.csv\", index_col=0, header=0, low_memory=False)\n",
        "x_test_yanick = pd.read_csv(\"data/X_test_features_yanick.csv\", index_col=0, header=0, low_memory=False)\n",
        "\n",
        "normal_features=x_train\n",
        "tescht=x_test\n",
        "\n",
        "normal_features[x_train_yanick.columns[-202:]] = x_train_yanick[x_train_yanick.columns[-202:]]\n",
        "tescht[x_test_yanick.columns[-202:]] = x_test_yanick[x_test_yanick.columns[-202:]]\n",
        "\n",
        "norm=normal_features.drop(['HRV_ULF','HRV_VLF','HRV_LF','HRV_LFHF','HRV_LFn'], axis=1)\n",
        "tescht=tescht.drop(['HRV_ULF','HRV_VLF','HRV_LF','HRV_LFHF','HRV_LFn'], axis=1)\n",
        "norm=norm.replace(np.inf, 10)\n",
        "tescht=tescht.replace(np.inf, 10)\n",
        "norm=norm.replace(-np.inf, -10)\n",
        "tescht=tescht.replace(-np.inf, -10)\n",
        "\n",
        "norm['y']=y_train\n",
        "y_tr=norm['y']\n",
        "selected=norm.drop(['y'], axis=1)\n",
        "\n",
        "imputer=SimpleImputer(strategy ='median')\n",
        "feature_sel = SelectFromModel(RandomForestClassifier())\n",
        "\n",
        "selected=imputer.fit_transform(selected)\n",
        "tescht=imputer.transform(tescht)\n",
        "\n",
        "selected=feature_sel.fit_transform(selected,y_tr)\n",
        "tescht=feature_sel.transform(tescht)"
      ],
      "execution_count": 11,
      "outputs": []
    },
    {
      "cell_type": "code",
      "metadata": {
        "colab": {
          "base_uri": "https://localhost:8080/"
        },
        "id": "hkJUS3oGlRnR",
        "outputId": "91469de6-b91c-41dd-9cf9-ca41b62ea926"
      },
      "source": [
        "def get_model():\n",
        "  estimators = [('l2', HistGradientBoostingClassifier(l2_regularization=3, max_leaf_nodes=None,min_samples_leaf=20,scoring='f1_micro', random_state=2)),\n",
        "                ('full_steam', HistGradientBoostingClassifier(min_samples_leaf=20,scoring='f1_micro',random_state=1)),\n",
        "                ('20', HistGradientBoostingClassifier(scoring='f1_micro',random_state=0)),\n",
        "                ('rfc',Pipeline([('scaler', SimpleImputer(strategy ='median')),('svc', RandomForestClassifier(n_estimators=500, min_samples_leaf=2,random_state=36))])),\n",
        "                ('rf_feat',Pipeline([('scaler', SimpleImputer(strategy='median')), ('svc', RandomForestClassifier(n_estimators=100, random_state=42))]))]\n",
        "  clf = VotingClassifier(estimators=estimators,voting='soft',flatten_transform=True,n_jobs=-1)\n",
        "  return clf\n",
        "\n",
        "skf1=StratifiedKFold(n_splits=5, shuffle=True, random_state=42)\n",
        "for train_index,test_index in skf1.split(selected,y_tr):\n",
        "  X_train = selected[train_index]\n",
        "  X_test = selected[test_index]\n",
        "  Y_train =y_tr[train_index]\n",
        "  Y_test = y_tr[test_index]\n",
        "  model=get_model()\n",
        "  model.fit(X_train,Y_train)\n",
        "  Y_pred=model.predict(X_test)\n",
        "  print(confusion_matrix(Y_test, Y_pred))\n",
        "  print('Score')\n",
        "  print(f1_score(Y_test, Y_pred, average='micro'))\n",
        "  print()\n",
        "  print()"
      ],
      "execution_count": 12,
      "outputs": [
        {
          "output_type": "stream",
          "text": [
            "[[568   4  33   1]\n",
            " [  9  60  19   1]\n",
            " [ 78   5 210   2]\n",
            " [ 13   2   5  14]]\n",
            "Score\n",
            "0.83203125\n",
            "\n",
            "\n",
            "[[572   1  31   2]\n",
            " [  7  69  12   1]\n",
            " [ 72   8 211   4]\n",
            " [  7   0   5  22]]\n",
            "Score\n",
            "0.853515625\n",
            "\n",
            "\n"
          ],
          "name": "stdout"
        },
        {
          "output_type": "stream",
          "text": [
            "/usr/local/lib/python3.6/dist-packages/joblib/externals/loky/process_executor.py:691: UserWarning: A worker stopped while some jobs were given to the executor. This can be caused by a too short worker timeout or by a memory leak.\n",
            "  \"timeout or by a memory leak.\", UserWarning\n"
          ],
          "name": "stderr"
        },
        {
          "output_type": "stream",
          "text": [
            "[[575   4  26   1]\n",
            " [  6  58  20   4]\n",
            " [ 81   9 201   4]\n",
            " [ 10   1   4  19]]\n",
            "Score\n",
            "0.833822091886608\n",
            "\n",
            "\n",
            "[[570   0  35   1]\n",
            " [  3  65  19   1]\n",
            " [ 76  13 206   0]\n",
            " [ 12   2   3  17]]\n",
            "Score\n",
            "0.8387096774193549\n",
            "\n",
            "\n"
          ],
          "name": "stdout"
        },
        {
          "output_type": "stream",
          "text": [
            "/usr/local/lib/python3.6/dist-packages/joblib/externals/loky/process_executor.py:691: UserWarning: A worker stopped while some jobs were given to the executor. This can be caused by a too short worker timeout or by a memory leak.\n",
            "  \"timeout or by a memory leak.\", UserWarning\n"
          ],
          "name": "stderr"
        },
        {
          "output_type": "stream",
          "text": [
            "[[557   3  39   7]\n",
            " [  3  68  18   0]\n",
            " [ 70   9 213   2]\n",
            " [ 17   0   2  15]]\n",
            "Score\n",
            "0.833822091886608\n",
            "\n",
            "\n"
          ],
          "name": "stdout"
        }
      ]
    },
    {
      "cell_type": "code",
      "metadata": {
        "id": "TipwT1MwlaeR"
      },
      "source": [
        "model=get_model()\n",
        "model.fit(selected,y_tr)\n",
        "y_pred = model.predict(tescht)\n",
        "\n",
        "# store predictions to disk\n",
        "df = pd.DataFrame(y_pred)\n",
        "df.to_csv('Jannik_All_features.csv', header=['y'], index_label='id')"
      ],
      "execution_count": 13,
      "outputs": []
    }
  ]
}